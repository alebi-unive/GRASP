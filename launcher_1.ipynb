{
 "cells": [
  {
   "cell_type": "code",
   "execution_count": null,
   "id": "7dac23dd",
   "metadata": {},
   "outputs": [
    {
     "name": "stderr",
     "output_type": "stream",
     "text": [
      "wandb: Currently logged in as: l_cosmo. Use `wandb login --relogin` to force relogin\n",
      "wandb: wandb version 0.16.0 is available!  To upgrade, please run:\n",
      "wandb:  $ pip install wandb --upgrade\n",
      "wandb: Tracking run with wandb version 0.13.4\n",
      "wandb: Run data is saved locally in ./wandb/run-20231124_085643-bc5c2loc\n",
      "wandb: Run `wandb offline` to turn off syncing.\n",
      "wandb: Syncing run self-cross-hugg_k-10_sm-False_l-9_d-256\n",
      "wandb: ⭐️ View project at https://wandb.ai/l_cosmo/graph_diffusion_perceptron\n",
      "wandb: 🚀 View run at https://wandb.ai/l_cosmo/graph_diffusion_perceptron/runs/bc5c2loc\n"
     ]
    },
    {
     "name": "stdout",
     "output_type": "stream",
     "text": [
      "Point dim 10\n",
      "Comp dimensions...\n",
      "Comp stats...\n",
      "Loaded precomuted eigenquantities\n",
      "Comp Samples...\n",
      "Tot #200\n",
      "Point dim 10\n",
      "Comp dimensions...\n",
      "Comp stats...\n",
      "Loaded precomuted eigenquantities\n",
      "Comp Samples...\n",
      "Tot #200\n"
     ]
    },
    {
     "name": "stderr",
     "output_type": "stream",
     "text": [
      "GPU available: True (cuda), used: True\n",
      "TPU available: False, using: 0 TPU cores\n",
      "IPU available: False, using: 0 IPUs\n",
      "HPU available: False, using: 0 HPUs\n",
      "LOCAL_RANK: 0 - CUDA_VISIBLE_DEVICES: [0]\n",
      "\n",
      "  | Name      | Type         | Params\n",
      "-------------------------------------------\n",
      "0 | diffusion | PointwiseNet | 30.0 M\n",
      "-------------------------------------------\n",
      "30.0 M    Trainable params\n",
      "0         Non-trainable params\n",
      "30.0 M    Total params\n",
      "119.976   Total estimated model params size (MB)\n",
      "/home/lcosmo/anaconda3/envs/graph_diffusion/lib/python3.8/site-packages/pytorch_lightning/trainer/connectors/data_connector.py:236: PossibleUserWarning: The dataloader, val_dataloader 0, does not have many workers which may be a bottleneck. Consider increasing the value of the `num_workers` argument` (try 40 which is the number of cpus on this machine) in the `DataLoader` init to improve performance.\n",
      "  rank_zero_warn(\n",
      "/home/lcosmo/anaconda3/envs/graph_diffusion/lib/python3.8/site-packages/pytorch_lightning/trainer/connectors/data_connector.py:236: PossibleUserWarning: The dataloader, train_dataloader, does not have many workers which may be a bottleneck. Consider increasing the value of the `num_workers` argument` (try 40 which is the number of cpus on this machine) in the `DataLoader` init to improve performance.\n",
      "  rank_zero_warn(\n",
      "/home/lcosmo/anaconda3/envs/graph_diffusion/lib/python3.8/site-packages/pytorch_lightning/trainer/trainer.py:1892: PossibleUserWarning: The number of training batches (1) is smaller than the logging interval Trainer(log_every_n_steps=250). Set a lower value for log_every_n_steps if you want to see logs for the training epoch.\n",
      "  rank_zero_warn(\n"
     ]
    },
    {
     "name": "stdout",
     "output_type": "stream",
     "text": [
      "Epoch 499:  50%|█████     | 1/2 [00:00<00:00,  2.43it/s, v_num=2loc]         \n",
      "Validation: 0it [00:00, ?it/s]\u001b[A\n",
      "Validation:   0%|          | 0/1 [00:00<?, ?it/s]\u001b[A\n",
      "Validation DataLoader 0:   0%|          | 0/1 [00:00<?, ?it/s]\u001b[A\n",
      "Epoch 499: 100%|██████████| 2/2 [00:14<00:00,  7.31s/it, v_num=2loc]/s]\u001b[A\n",
      "                                                                       \u001b[A"
     ]
    },
    {
     "name": "stderr",
     "output_type": "stream",
     "text": [
      "Epoch 499, global step 500: 'loss' reached 0.22927 (best 0.22927), saving model to './graph_diffusion_perceptron/bc5c2loc/checkpoints/epoch=499-step=500.ckpt' as top 1\n"
     ]
    },
    {
     "name": "stdout",
     "output_type": "stream",
     "text": [
      "Epoch 999:  50%|█████     | 1/2 [00:00<00:00,  2.46it/s, v_num=2loc]\n",
      "Validation: 0it [00:00, ?it/s]\u001b[A\n",
      "Validation:   0%|          | 0/1 [00:00<?, ?it/s]\u001b[A\n",
      "Validation DataLoader 0:   0%|          | 0/1 [00:00<?, ?it/s]\u001b[A\n",
      "Epoch 999: 100%|██████████| 2/2 [00:13<00:00,  6.63s/it, v_num=2loc]t/s]\u001b[A\n",
      "                                                                        \u001b[A"
     ]
    },
    {
     "name": "stderr",
     "output_type": "stream",
     "text": [
      "Epoch 999, global step 1000: 'loss' reached 0.19614 (best 0.19614), saving model to './graph_diffusion_perceptron/bc5c2loc/checkpoints/epoch=999-step=1000.ckpt' as top 1\n"
     ]
    },
    {
     "name": "stdout",
     "output_type": "stream",
     "text": [
      "Epoch 1499:  50%|█████     | 1/2 [00:00<00:00,  2.39it/s, v_num=2loc]\n",
      "Validation: 0it [00:00, ?it/s]\u001b[A\n",
      "Validation:   0%|          | 0/1 [00:00<?, ?it/s]\u001b[A\n",
      "Validation DataLoader 0:   0%|          | 0/1 [00:00<?, ?it/s]\u001b[A\n",
      "Epoch 1499: 100%|██████████| 2/2 [00:13<00:00,  6.65s/it, v_num=2loc]s]\u001b[A\n",
      "                                                                       \u001b[A"
     ]
    },
    {
     "name": "stderr",
     "output_type": "stream",
     "text": [
      "Epoch 1499, global step 1500: 'loss' reached 0.17201 (best 0.17201), saving model to './graph_diffusion_perceptron/bc5c2loc/checkpoints/epoch=1499-step=1500.ckpt' as top 1\n"
     ]
    },
    {
     "name": "stdout",
     "output_type": "stream",
     "text": [
      "Epoch 1999:  50%|█████     | 1/2 [00:00<00:00,  2.39it/s, v_num=2loc]\n",
      "Validation: 0it [00:00, ?it/s]\u001b[A\n",
      "Validation:   0%|          | 0/1 [00:00<?, ?it/s]\u001b[A\n",
      "Validation DataLoader 0:   0%|          | 0/1 [00:00<?, ?it/s]\u001b[A\n",
      "Epoch 1999: 100%|██████████| 2/2 [00:13<00:00,  6.53s/it, v_num=2loc]/s]\u001b[A\n",
      "                                                                        \u001b[A"
     ]
    },
    {
     "name": "stderr",
     "output_type": "stream",
     "text": [
      "Epoch 1999, global step 2000: 'loss' reached 0.14821 (best 0.14821), saving model to './graph_diffusion_perceptron/bc5c2loc/checkpoints/epoch=1999-step=2000.ckpt' as top 1\n"
     ]
    },
    {
     "name": "stdout",
     "output_type": "stream",
     "text": [
      "Epoch 2499:  50%|█████     | 1/2 [00:00<00:00,  2.47it/s, v_num=2loc]\n",
      "Validation: 0it [00:00, ?it/s]\u001b[A\n",
      "Validation:   0%|          | 0/1 [00:00<?, ?it/s]\u001b[A\n",
      "Validation DataLoader 0:   0%|          | 0/1 [00:00<?, ?it/s]\u001b[A\n",
      "Epoch 2499: 100%|██████████| 2/2 [00:13<00:00,  6.70s/it, v_num=2loc]/s]\u001b[A\n",
      "                                                                        \u001b[A"
     ]
    },
    {
     "name": "stderr",
     "output_type": "stream",
     "text": [
      "Epoch 2499, global step 2500: 'loss' reached 0.10965 (best 0.10965), saving model to './graph_diffusion_perceptron/bc5c2loc/checkpoints/epoch=2499-step=2500.ckpt' as top 1\n"
     ]
    },
    {
     "name": "stdout",
     "output_type": "stream",
     "text": [
      "Epoch 2999:  50%|█████     | 1/2 [00:00<00:00,  2.44it/s, v_num=2loc]\n",
      "Validation: 0it [00:00, ?it/s]\u001b[A\n",
      "Validation:   0%|          | 0/1 [00:00<?, ?it/s]\u001b[A\n",
      "Validation DataLoader 0:   0%|          | 0/1 [00:00<?, ?it/s]\u001b[A\n",
      "Epoch 2999: 100%|██████████| 2/2 [00:13<00:00,  6.60s/it, v_num=2loc]/s]\u001b[A\n",
      "                                                                        \u001b[A"
     ]
    },
    {
     "name": "stderr",
     "output_type": "stream",
     "text": [
      "Epoch 2999, global step 3000: 'loss' was not in top 1\n"
     ]
    },
    {
     "name": "stdout",
     "output_type": "stream",
     "text": [
      "Epoch 3499:  50%|█████     | 1/2 [00:00<00:00,  2.47it/s, v_num=2loc]\n",
      "Validation: 0it [00:00, ?it/s]\u001b[A\n",
      "Validation:   0%|          | 0/1 [00:00<?, ?it/s]\u001b[A\n",
      "Validation DataLoader 0:   0%|          | 0/1 [00:00<?, ?it/s]\u001b[A\n",
      "Epoch 3499: 100%|██████████| 2/2 [00:13<00:00,  6.71s/it, v_num=2loc]/s]\u001b[A\n",
      "                                                                        \u001b[A"
     ]
    },
    {
     "name": "stderr",
     "output_type": "stream",
     "text": [
      "Epoch 3499, global step 3500: 'loss' was not in top 1\n"
     ]
    },
    {
     "name": "stdout",
     "output_type": "stream",
     "text": [
      "Epoch 3999:  50%|█████     | 1/2 [00:00<00:00,  2.37it/s, v_num=2loc]\n",
      "Validation: 0it [00:00, ?it/s]\u001b[A\n",
      "Validation:   0%|          | 0/1 [00:00<?, ?it/s]\u001b[A\n",
      "Validation DataLoader 0:   0%|          | 0/1 [00:00<?, ?it/s]\u001b[A\n",
      "Epoch 3999: 100%|██████████| 2/2 [00:13<00:00,  6.57s/it, v_num=2loc]/s]\u001b[A\n",
      "                                                                        \u001b[A"
     ]
    },
    {
     "name": "stderr",
     "output_type": "stream",
     "text": [
      "Epoch 3999, global step 4000: 'loss' reached 0.10224 (best 0.10224), saving model to './graph_diffusion_perceptron/bc5c2loc/checkpoints/epoch=3999-step=4000.ckpt' as top 1\n"
     ]
    },
    {
     "name": "stdout",
     "output_type": "stream",
     "text": [
      "Epoch 4499:  50%|█████     | 1/2 [00:00<00:00,  2.44it/s, v_num=2loc]\n",
      "Validation: 0it [00:00, ?it/s]\u001b[A\n",
      "Validation:   0%|          | 0/1 [00:00<?, ?it/s]\u001b[A\n",
      "Validation DataLoader 0:   0%|          | 0/1 [00:00<?, ?it/s]\u001b[A\n",
      "Epoch 4499: 100%|██████████| 2/2 [00:13<00:00,  6.63s/it, v_num=2loc]/s]\u001b[A\n",
      "                                                                        \u001b[A"
     ]
    },
    {
     "name": "stderr",
     "output_type": "stream",
     "text": [
      "Epoch 4499, global step 4500: 'loss' was not in top 1\n"
     ]
    },
    {
     "name": "stdout",
     "output_type": "stream",
     "text": [
      "Epoch 4999:  50%|█████     | 1/2 [00:00<00:00,  2.47it/s, v_num=2loc]\n",
      "Validation: 0it [00:00, ?it/s]\u001b[A\n",
      "Validation:   0%|          | 0/1 [00:00<?, ?it/s]\u001b[A\n",
      "Validation DataLoader 0:   0%|          | 0/1 [00:00<?, ?it/s]\u001b[A\n",
      "Epoch 4999: 100%|██████████| 2/2 [00:12<00:00,  6.48s/it, v_num=2loc]/s]\u001b[A\n",
      "                                                                        \u001b[A"
     ]
    },
    {
     "name": "stderr",
     "output_type": "stream",
     "text": [
      "Epoch 4999, global step 5000: 'loss' reached 0.09862 (best 0.09862), saving model to './graph_diffusion_perceptron/bc5c2loc/checkpoints/epoch=4999-step=5000.ckpt' as top 1\n"
     ]
    },
    {
     "name": "stdout",
     "output_type": "stream",
     "text": [
      "Epoch 5499:  50%|█████     | 1/2 [00:00<00:00,  2.45it/s, v_num=2loc]\n",
      "Validation: 0it [00:00, ?it/s]\u001b[A\n",
      "Validation:   0%|          | 0/1 [00:00<?, ?it/s]\u001b[A\n",
      "Validation DataLoader 0:   0%|          | 0/1 [00:00<?, ?it/s]\u001b[A\n",
      "Epoch 5499: 100%|██████████| 2/2 [00:13<00:00,  6.63s/it, v_num=2loc]/s]\u001b[A\n",
      "                                                                        \u001b[A"
     ]
    },
    {
     "name": "stderr",
     "output_type": "stream",
     "text": [
      "Epoch 5499, global step 5500: 'loss' was not in top 1\n"
     ]
    },
    {
     "name": "stdout",
     "output_type": "stream",
     "text": [
      "Epoch 5999:  50%|█████     | 1/2 [00:00<00:00,  2.46it/s, v_num=2loc]\n",
      "Validation: 0it [00:00, ?it/s]\u001b[A\n",
      "Validation:   0%|          | 0/1 [00:00<?, ?it/s]\u001b[A\n",
      "Validation DataLoader 0:   0%|          | 0/1 [00:00<?, ?it/s]\u001b[A\n",
      "Epoch 5999: 100%|██████████| 2/2 [00:13<00:00,  6.53s/it, v_num=2loc]s]\u001b[A\n",
      "                                                                       \u001b[A"
     ]
    },
    {
     "name": "stderr",
     "output_type": "stream",
     "text": [
      "Epoch 5999, global step 6000: 'loss' was not in top 1\n"
     ]
    },
    {
     "name": "stdout",
     "output_type": "stream",
     "text": [
      "Epoch 6499:  50%|█████     | 1/2 [00:00<00:00,  2.34it/s, v_num=2loc]\n",
      "Validation: 0it [00:00, ?it/s]\u001b[A\n",
      "Validation:   0%|          | 0/1 [00:00<?, ?it/s]\u001b[A\n",
      "Validation DataLoader 0:   0%|          | 0/1 [00:00<?, ?it/s]\u001b[A\n",
      "Epoch 6499: 100%|██████████| 2/2 [00:13<00:00,  6.59s/it, v_num=2loc]s]\u001b[A\n",
      "                                                                       \u001b[A"
     ]
    },
    {
     "name": "stderr",
     "output_type": "stream",
     "text": [
      "Epoch 6499, global step 6500: 'loss' was not in top 1\n"
     ]
    },
    {
     "name": "stdout",
     "output_type": "stream",
     "text": [
      "Epoch 6999:  50%|█████     | 1/2 [00:00<00:00,  2.47it/s, v_num=2loc]\n",
      "Validation: 0it [00:00, ?it/s]\u001b[A\n",
      "Validation:   0%|          | 0/1 [00:00<?, ?it/s]\u001b[A\n",
      "Validation DataLoader 0:   0%|          | 0/1 [00:00<?, ?it/s]\u001b[A\n",
      "Epoch 6999: 100%|██████████| 2/2 [00:13<00:00,  6.51s/it, v_num=2loc]/s]\u001b[A\n",
      "                                                                        \u001b[A"
     ]
    },
    {
     "name": "stderr",
     "output_type": "stream",
     "text": [
      "Epoch 6999, global step 7000: 'loss' was not in top 1\n"
     ]
    },
    {
     "name": "stdout",
     "output_type": "stream",
     "text": [
      "Epoch 7499:  50%|█████     | 1/2 [00:00<00:00,  2.46it/s, v_num=2loc]\n",
      "Validation: 0it [00:00, ?it/s]\u001b[A\n",
      "Validation:   0%|          | 0/1 [00:00<?, ?it/s]\u001b[A\n",
      "Validation DataLoader 0:   0%|          | 0/1 [00:00<?, ?it/s]\u001b[A\n",
      "Epoch 7499: 100%|██████████| 2/2 [00:12<00:00,  6.44s/it, v_num=2loc]/s]\u001b[A\n",
      "                                                                        \u001b[A"
     ]
    },
    {
     "name": "stderr",
     "output_type": "stream",
     "text": [
      "Epoch 7499, global step 7500: 'loss' was not in top 1\n"
     ]
    },
    {
     "name": "stdout",
     "output_type": "stream",
     "text": [
      "Epoch 7999:  50%|█████     | 1/2 [00:00<00:00,  2.41it/s, v_num=2loc]\n",
      "Validation: 0it [00:00, ?it/s]\u001b[A\n",
      "Validation:   0%|          | 0/1 [00:00<?, ?it/s]\u001b[A\n",
      "Validation DataLoader 0:   0%|          | 0/1 [00:00<?, ?it/s]\u001b[A\n",
      "Epoch 7999: 100%|██████████| 2/2 [00:12<00:00,  6.47s/it, v_num=2loc]/s]\u001b[A\n",
      "                                                                        \u001b[A"
     ]
    },
    {
     "name": "stderr",
     "output_type": "stream",
     "text": [
      "Epoch 7999, global step 8000: 'loss' was not in top 1\n"
     ]
    },
    {
     "name": "stdout",
     "output_type": "stream",
     "text": [
      "Epoch 8499:  50%|█████     | 1/2 [00:00<00:00,  2.47it/s, v_num=2loc]\n",
      "Validation: 0it [00:00, ?it/s]\u001b[A\n",
      "Validation:   0%|          | 0/1 [00:00<?, ?it/s]\u001b[A\n",
      "Validation DataLoader 0:   0%|          | 0/1 [00:00<?, ?it/s]\u001b[A\n",
      "Epoch 8499: 100%|██████████| 2/2 [00:12<00:00,  6.47s/it, v_num=2loc]s]\u001b[A\n",
      "                                                                       \u001b[A"
     ]
    },
    {
     "name": "stderr",
     "output_type": "stream",
     "text": [
      "Epoch 8499, global step 8500: 'loss' was not in top 1\n"
     ]
    },
    {
     "name": "stdout",
     "output_type": "stream",
     "text": [
      "Epoch 8999:  50%|█████     | 1/2 [00:00<00:00,  2.47it/s, v_num=2loc]\n",
      "Validation: 0it [00:00, ?it/s]\u001b[A\n",
      "Validation:   0%|          | 0/1 [00:00<?, ?it/s]\u001b[A\n",
      "Validation DataLoader 0:   0%|          | 0/1 [00:00<?, ?it/s]\u001b[A\n",
      "Epoch 8999: 100%|██████████| 2/2 [00:13<00:00,  6.68s/it, v_num=2loc]s]\u001b[A\n",
      "                                                                       \u001b[A"
     ]
    },
    {
     "name": "stderr",
     "output_type": "stream",
     "text": [
      "Epoch 8999, global step 9000: 'loss' was not in top 1\n"
     ]
    },
    {
     "name": "stdout",
     "output_type": "stream",
     "text": [
      "Epoch 9499:  50%|█████     | 1/2 [00:00<00:00,  2.45it/s, v_num=2loc]\n",
      "Validation: 0it [00:00, ?it/s]\u001b[A\n",
      "Validation:   0%|          | 0/1 [00:00<?, ?it/s]\u001b[A\n",
      "Validation DataLoader 0:   0%|          | 0/1 [00:00<?, ?it/s]\u001b[A\n",
      "Epoch 9499: 100%|██████████| 2/2 [00:13<00:00,  6.50s/it, v_num=2loc]/s]\u001b[A\n",
      "                                                                        \u001b[A"
     ]
    },
    {
     "name": "stderr",
     "output_type": "stream",
     "text": [
      "Epoch 9499, global step 9500: 'loss' was not in top 1\n"
     ]
    },
    {
     "name": "stdout",
     "output_type": "stream",
     "text": [
      "Epoch 9999:  50%|█████     | 1/2 [00:00<00:00,  2.47it/s, v_num=2loc]\n",
      "Validation: 0it [00:00, ?it/s]\u001b[A\n",
      "Validation:   0%|          | 0/1 [00:00<?, ?it/s]\u001b[A\n",
      "Validation DataLoader 0:   0%|          | 0/1 [00:00<?, ?it/s]\u001b[A\n",
      "Epoch 9999: 100%|██████████| 2/2 [00:12<00:00,  6.49s/it, v_num=2loc]/s]\u001b[A\n",
      "                                                                        \u001b[A"
     ]
    },
    {
     "name": "stderr",
     "output_type": "stream",
     "text": [
      "Epoch 9999, global step 10000: 'loss' reached 0.07982 (best 0.07982), saving model to './graph_diffusion_perceptron/bc5c2loc/checkpoints/epoch=9999-step=10000.ckpt' as top 1\n"
     ]
    },
    {
     "name": "stdout",
     "output_type": "stream",
     "text": [
      "Epoch 10499:  50%|█████     | 1/2 [00:00<00:00,  2.46it/s, v_num=2loc]\n",
      "Validation: 0it [00:00, ?it/s]\u001b[A\n",
      "Validation:   0%|          | 0/1 [00:00<?, ?it/s]\u001b[A\n",
      "Validation DataLoader 0:   0%|          | 0/1 [00:00<?, ?it/s]\u001b[A\n",
      "Epoch 10499: 100%|██████████| 2/2 [00:12<00:00,  6.47s/it, v_num=2loc]s]\u001b[A\n",
      "                                                                        \u001b[A"
     ]
    },
    {
     "name": "stderr",
     "output_type": "stream",
     "text": [
      "Epoch 10499, global step 10500: 'loss' was not in top 1\n"
     ]
    },
    {
     "name": "stdout",
     "output_type": "stream",
     "text": [
      "Epoch 10999:  50%|█████     | 1/2 [00:00<00:00,  2.45it/s, v_num=2loc]\n",
      "Validation: 0it [00:00, ?it/s]\u001b[A\n",
      "Validation:   0%|          | 0/1 [00:00<?, ?it/s]\u001b[A\n",
      "Validation DataLoader 0:   0%|          | 0/1 [00:00<?, ?it/s]\u001b[A\n",
      "Epoch 10999: 100%|██████████| 2/2 [00:12<00:00,  6.50s/it, v_num=2loc]]\u001b[A\n",
      "                                                                       \u001b[A"
     ]
    },
    {
     "name": "stderr",
     "output_type": "stream",
     "text": [
      "Epoch 10999, global step 11000: 'loss' was not in top 1\n"
     ]
    },
    {
     "name": "stdout",
     "output_type": "stream",
     "text": [
      "Epoch 11499:  50%|█████     | 1/2 [00:00<00:00,  2.35it/s, v_num=2loc]\n",
      "Validation: 0it [00:00, ?it/s]\u001b[A\n",
      "Validation:   0%|          | 0/1 [00:00<?, ?it/s]\u001b[A\n",
      "Validation DataLoader 0:   0%|          | 0/1 [00:00<?, ?it/s]\u001b[A\n",
      "Epoch 11499: 100%|██████████| 2/2 [00:13<00:00,  6.56s/it, v_num=2loc]]\u001b[A\n",
      "                                                                       \u001b[A"
     ]
    },
    {
     "name": "stderr",
     "output_type": "stream",
     "text": [
      "Epoch 11499, global step 11500: 'loss' was not in top 1\n"
     ]
    },
    {
     "name": "stdout",
     "output_type": "stream",
     "text": [
      "Epoch 11999:  50%|█████     | 1/2 [00:00<00:00,  2.46it/s, v_num=2loc]\n",
      "Validation: 0it [00:00, ?it/s]\u001b[A\n",
      "Validation:   0%|          | 0/1 [00:00<?, ?it/s]\u001b[A\n",
      "Validation DataLoader 0:   0%|          | 0/1 [00:00<?, ?it/s]\u001b[A\n",
      "Epoch 11999: 100%|██████████| 2/2 [00:13<00:00,  6.62s/it, v_num=2loc]s]\u001b[A\n",
      "                                                                        \u001b[A"
     ]
    },
    {
     "name": "stderr",
     "output_type": "stream",
     "text": [
      "Epoch 11999, global step 12000: 'loss' was not in top 1\n"
     ]
    },
    {
     "name": "stdout",
     "output_type": "stream",
     "text": [
      "Epoch 12499:  50%|█████     | 1/2 [00:00<00:00,  2.44it/s, v_num=2loc]\n",
      "Validation: 0it [00:00, ?it/s]\u001b[A\n",
      "Validation:   0%|          | 0/1 [00:00<?, ?it/s]\u001b[A\n",
      "Validation DataLoader 0:   0%|          | 0/1 [00:00<?, ?it/s]\u001b[A\n",
      "Epoch 12499: 100%|██████████| 2/2 [00:13<00:00,  6.52s/it, v_num=2loc]]\u001b[A\n",
      "                                                                       \u001b[A"
     ]
    },
    {
     "name": "stderr",
     "output_type": "stream",
     "text": [
      "Epoch 12499, global step 12500: 'loss' was not in top 1\n"
     ]
    },
    {
     "name": "stdout",
     "output_type": "stream",
     "text": [
      "Epoch 12999:  50%|█████     | 1/2 [00:00<00:00,  2.45it/s, v_num=2loc]\n",
      "Validation: 0it [00:00, ?it/s]\u001b[A\n",
      "Validation:   0%|          | 0/1 [00:00<?, ?it/s]\u001b[A\n",
      "Validation DataLoader 0:   0%|          | 0/1 [00:00<?, ?it/s]\u001b[A\n",
      "Epoch 12999: 100%|██████████| 2/2 [00:13<00:00,  6.67s/it, v_num=2loc]s]\u001b[A\n",
      "                                                                        \u001b[A"
     ]
    },
    {
     "name": "stderr",
     "output_type": "stream",
     "text": [
      "Epoch 12999, global step 13000: 'loss' was not in top 1\n"
     ]
    },
    {
     "name": "stdout",
     "output_type": "stream",
     "text": [
      "Epoch 13499:  50%|█████     | 1/2 [00:00<00:00,  2.46it/s, v_num=2loc]\n",
      "Validation: 0it [00:00, ?it/s]\u001b[A\n",
      "Validation:   0%|          | 0/1 [00:00<?, ?it/s]\u001b[A\n",
      "Validation DataLoader 0:   0%|          | 0/1 [00:00<?, ?it/s]\u001b[A\n",
      "Epoch 13499: 100%|██████████| 2/2 [00:12<00:00,  6.46s/it, v_num=2loc]]\u001b[A\n",
      "                                                                       \u001b[A"
     ]
    },
    {
     "name": "stderr",
     "output_type": "stream",
     "text": [
      "Epoch 13499, global step 13500: 'loss' was not in top 1\n"
     ]
    },
    {
     "name": "stdout",
     "output_type": "stream",
     "text": [
      "Epoch 13999:  50%|█████     | 1/2 [00:00<00:00,  2.45it/s, v_num=2loc]\n",
      "Validation: 0it [00:00, ?it/s]\u001b[A\n",
      "Validation:   0%|          | 0/1 [00:00<?, ?it/s]\u001b[A\n",
      "Validation DataLoader 0:   0%|          | 0/1 [00:00<?, ?it/s]\u001b[A\n",
      "Epoch 13999: 100%|██████████| 2/2 [00:13<00:00,  6.58s/it, v_num=2loc]s]\u001b[A\n",
      "                                                                        \u001b[A"
     ]
    },
    {
     "name": "stderr",
     "output_type": "stream",
     "text": [
      "Epoch 13999, global step 14000: 'loss' was not in top 1\n"
     ]
    },
    {
     "name": "stdout",
     "output_type": "stream",
     "text": [
      "Epoch 14499:  50%|█████     | 1/2 [00:00<00:00,  2.46it/s, v_num=2loc]\n",
      "Validation: 0it [00:00, ?it/s]\u001b[A\n",
      "Validation:   0%|          | 0/1 [00:00<?, ?it/s]\u001b[A\n",
      "Validation DataLoader 0:   0%|          | 0/1 [00:00<?, ?it/s]\u001b[A\n",
      "Epoch 14499: 100%|██████████| 2/2 [00:13<00:00,  6.52s/it, v_num=2loc]]\u001b[A\n",
      "                                                                       \u001b[A"
     ]
    },
    {
     "name": "stderr",
     "output_type": "stream",
     "text": [
      "Epoch 14499, global step 14500: 'loss' was not in top 1\n"
     ]
    },
    {
     "name": "stdout",
     "output_type": "stream",
     "text": [
      "Epoch 14999:  50%|█████     | 1/2 [00:00<00:00,  2.45it/s, v_num=2loc]\n",
      "Validation: 0it [00:00, ?it/s]\u001b[A\n",
      "Validation:   0%|          | 0/1 [00:00<?, ?it/s]\u001b[A\n",
      "Validation DataLoader 0:   0%|          | 0/1 [00:00<?, ?it/s]\u001b[A\n",
      "Epoch 14999: 100%|██████████| 2/2 [00:13<00:00,  6.60s/it, v_num=2loc]s]\u001b[A\n",
      "                                                                        \u001b[A"
     ]
    },
    {
     "name": "stderr",
     "output_type": "stream",
     "text": [
      "Epoch 14999, global step 15000: 'loss' was not in top 1\n"
     ]
    },
    {
     "name": "stdout",
     "output_type": "stream",
     "text": [
      "Epoch 15499:  50%|█████     | 1/2 [00:00<00:00,  2.46it/s, v_num=2loc]\n",
      "Validation: 0it [00:00, ?it/s]\u001b[A\n",
      "Validation:   0%|          | 0/1 [00:00<?, ?it/s]\u001b[A\n",
      "Validation DataLoader 0:   0%|          | 0/1 [00:00<?, ?it/s]\u001b[A\n",
      "Epoch 15499: 100%|██████████| 2/2 [00:13<00:00,  6.52s/it, v_num=2loc]]\u001b[A\n",
      "                                                                       \u001b[A"
     ]
    },
    {
     "name": "stderr",
     "output_type": "stream",
     "text": [
      "Epoch 15499, global step 15500: 'loss' was not in top 1\n"
     ]
    },
    {
     "name": "stdout",
     "output_type": "stream",
     "text": [
      "Epoch 15999:  50%|█████     | 1/2 [00:00<00:00,  2.45it/s, v_num=2loc]\n",
      "Validation: 0it [00:00, ?it/s]\u001b[A\n",
      "Validation:   0%|          | 0/1 [00:00<?, ?it/s]\u001b[A\n",
      "Validation DataLoader 0:   0%|          | 0/1 [00:00<?, ?it/s]\u001b[A\n",
      "Epoch 15999: 100%|██████████| 2/2 [00:13<00:00,  6.61s/it, v_num=2loc]s]\u001b[A\n",
      "                                                                        \u001b[A"
     ]
    },
    {
     "name": "stderr",
     "output_type": "stream",
     "text": [
      "Epoch 15999, global step 16000: 'loss' was not in top 1\n"
     ]
    },
    {
     "name": "stdout",
     "output_type": "stream",
     "text": [
      "Epoch 16499:  50%|█████     | 1/2 [00:00<00:00,  2.45it/s, v_num=2loc]\n",
      "Validation: 0it [00:00, ?it/s]\u001b[A\n",
      "Validation:   0%|          | 0/1 [00:00<?, ?it/s]\u001b[A\n",
      "Validation DataLoader 0:   0%|          | 0/1 [00:00<?, ?it/s]\u001b[A\n",
      "Epoch 16499: 100%|██████████| 2/2 [00:12<00:00,  6.47s/it, v_num=2loc]]\u001b[A\n",
      "                                                                       \u001b[A"
     ]
    },
    {
     "name": "stderr",
     "output_type": "stream",
     "text": [
      "Epoch 16499, global step 16500: 'loss' was not in top 1\n"
     ]
    },
    {
     "name": "stdout",
     "output_type": "stream",
     "text": [
      "Epoch 16999:  50%|█████     | 1/2 [00:00<00:00,  2.38it/s, v_num=2loc]\n",
      "Validation: 0it [00:00, ?it/s]\u001b[A\n",
      "Validation:   0%|          | 0/1 [00:00<?, ?it/s]\u001b[A\n",
      "Validation DataLoader 0:   0%|          | 0/1 [00:00<?, ?it/s]\u001b[A\n",
      "Epoch 16999: 100%|██████████| 2/2 [00:13<00:00,  6.58s/it, v_num=2loc]s]\u001b[A\n",
      "                                                                        \u001b[A"
     ]
    },
    {
     "name": "stderr",
     "output_type": "stream",
     "text": [
      "Epoch 16999, global step 17000: 'loss' was not in top 1\n"
     ]
    },
    {
     "name": "stdout",
     "output_type": "stream",
     "text": [
      "Epoch 17499:  50%|█████     | 1/2 [00:00<00:00,  2.44it/s, v_num=2loc]\n",
      "Validation: 0it [00:00, ?it/s]\u001b[A\n",
      "Validation:   0%|          | 0/1 [00:00<?, ?it/s]\u001b[A\n",
      "Validation DataLoader 0:   0%|          | 0/1 [00:00<?, ?it/s]\u001b[A\n",
      "Epoch 17499: 100%|██████████| 2/2 [00:13<00:00,  6.50s/it, v_num=2loc]s]\u001b[A\n",
      "                                                                        \u001b[A"
     ]
    },
    {
     "name": "stderr",
     "output_type": "stream",
     "text": [
      "Epoch 17499, global step 17500: 'loss' reached 0.07431 (best 0.07431), saving model to './graph_diffusion_perceptron/bc5c2loc/checkpoints/epoch=17499-step=17500.ckpt' as top 1\n"
     ]
    },
    {
     "name": "stdout",
     "output_type": "stream",
     "text": [
      "Epoch 17999:  50%|█████     | 1/2 [00:00<00:00,  2.46it/s, v_num=2loc]\n",
      "Validation: 0it [00:00, ?it/s]\u001b[A\n",
      "Validation:   0%|          | 0/1 [00:00<?, ?it/s]\u001b[A\n",
      "Validation DataLoader 0:   0%|          | 0/1 [00:00<?, ?it/s]\u001b[A\n",
      "Epoch 17999: 100%|██████████| 2/2 [00:13<00:00,  6.60s/it, v_num=2loc]]\u001b[A\n",
      "                                                                       \u001b[A"
     ]
    },
    {
     "name": "stderr",
     "output_type": "stream",
     "text": [
      "Epoch 17999, global step 18000: 'loss' was not in top 1\n"
     ]
    },
    {
     "name": "stdout",
     "output_type": "stream",
     "text": [
      "Epoch 18499:  50%|█████     | 1/2 [00:00<00:00,  2.46it/s, v_num=2loc]\n",
      "Validation: 0it [00:00, ?it/s]\u001b[A\n",
      "Validation:   0%|          | 0/1 [00:00<?, ?it/s]\u001b[A\n",
      "Validation DataLoader 0:   0%|          | 0/1 [00:00<?, ?it/s]\u001b[A\n",
      "Epoch 18499: 100%|██████████| 2/2 [00:13<00:00,  6.52s/it, v_num=2loc]]\u001b[A\n",
      "                                                                       \u001b[A"
     ]
    },
    {
     "name": "stderr",
     "output_type": "stream",
     "text": [
      "Epoch 18499, global step 18500: 'loss' was not in top 1\n"
     ]
    },
    {
     "name": "stdout",
     "output_type": "stream",
     "text": [
      "Epoch 18999:  50%|█████     | 1/2 [00:00<00:00,  2.44it/s, v_num=2loc]\n",
      "Validation: 0it [00:00, ?it/s]\u001b[A\n",
      "Validation:   0%|          | 0/1 [00:00<?, ?it/s]\u001b[A\n",
      "Validation DataLoader 0:   0%|          | 0/1 [00:00<?, ?it/s]\u001b[A\n",
      "Epoch 18999: 100%|██████████| 2/2 [00:13<00:00,  6.59s/it, v_num=2loc]s]\u001b[A\n",
      "                                                                        \u001b[A"
     ]
    },
    {
     "name": "stderr",
     "output_type": "stream",
     "text": [
      "Epoch 18999, global step 19000: 'loss' was not in top 1\n"
     ]
    },
    {
     "name": "stdout",
     "output_type": "stream",
     "text": [
      "Epoch 19499:  50%|█████     | 1/2 [00:00<00:00,  2.47it/s, v_num=2loc]\n",
      "Validation: 0it [00:00, ?it/s]\u001b[A\n",
      "Validation:   0%|          | 0/1 [00:00<?, ?it/s]\u001b[A\n",
      "Validation DataLoader 0:   0%|          | 0/1 [00:00<?, ?it/s]\u001b[A\n",
      "Epoch 19499: 100%|██████████| 2/2 [00:12<00:00,  6.48s/it, v_num=2loc]s]\u001b[A\n",
      "                                                                        \u001b[A"
     ]
    },
    {
     "name": "stderr",
     "output_type": "stream",
     "text": [
      "Epoch 19499, global step 19500: 'loss' was not in top 1\n"
     ]
    },
    {
     "name": "stdout",
     "output_type": "stream",
     "text": [
      "Epoch 19999:  50%|█████     | 1/2 [00:00<00:00,  2.33it/s, v_num=2loc]\n",
      "Validation: 0it [00:00, ?it/s]\u001b[A\n",
      "Validation:   0%|          | 0/1 [00:00<?, ?it/s]\u001b[A\n",
      "Validation DataLoader 0:   0%|          | 0/1 [00:00<?, ?it/s]\u001b[A\n",
      "Epoch 19999: 100%|██████████| 2/2 [00:13<00:00,  6.59s/it, v_num=2loc]s]\u001b[A\n",
      "                                                                        \u001b[A"
     ]
    },
    {
     "name": "stderr",
     "output_type": "stream",
     "text": [
      "Epoch 19999, global step 20000: 'loss' was not in top 1\n"
     ]
    },
    {
     "name": "stdout",
     "output_type": "stream",
     "text": [
      "Epoch 20499:  50%|█████     | 1/2 [00:00<00:00,  2.46it/s, v_num=2loc]\n",
      "Validation: 0it [00:00, ?it/s]\u001b[A\n",
      "Validation:   0%|          | 0/1 [00:00<?, ?it/s]\u001b[A\n",
      "Validation DataLoader 0:   0%|          | 0/1 [00:00<?, ?it/s]\u001b[A\n",
      "Epoch 20499: 100%|██████████| 2/2 [00:12<00:00,  6.50s/it, v_num=2loc]s]\u001b[A\n",
      "                                                                        \u001b[A"
     ]
    },
    {
     "name": "stderr",
     "output_type": "stream",
     "text": [
      "Epoch 20499, global step 20500: 'loss' was not in top 1\n"
     ]
    },
    {
     "name": "stdout",
     "output_type": "stream",
     "text": [
      "Epoch 20999:  50%|█████     | 1/2 [00:00<00:00,  2.46it/s, v_num=2loc]\n",
      "Validation: 0it [00:00, ?it/s]\u001b[A\n",
      "Validation:   0%|          | 0/1 [00:00<?, ?it/s]\u001b[A\n",
      "Validation DataLoader 0:   0%|          | 0/1 [00:00<?, ?it/s]\u001b[A\n",
      "Epoch 20999: 100%|██████████| 2/2 [00:13<00:00,  6.60s/it, v_num=2loc]s]\u001b[A\n",
      "                                                                        \u001b[A"
     ]
    },
    {
     "name": "stderr",
     "output_type": "stream",
     "text": [
      "Epoch 20999, global step 21000: 'loss' was not in top 1\n"
     ]
    },
    {
     "name": "stdout",
     "output_type": "stream",
     "text": [
      "Epoch 21499:  50%|█████     | 1/2 [00:00<00:00,  2.38it/s, v_num=2loc]\n",
      "Validation: 0it [00:00, ?it/s]\u001b[A\n",
      "Validation:   0%|          | 0/1 [00:00<?, ?it/s]\u001b[A\n",
      "Validation DataLoader 0:   0%|          | 0/1 [00:00<?, ?it/s]\u001b[A\n",
      "Epoch 21499: 100%|██████████| 2/2 [00:13<00:00,  6.55s/it, v_num=2loc]]\u001b[A\n",
      "                                                                       \u001b[A"
     ]
    },
    {
     "name": "stderr",
     "output_type": "stream",
     "text": [
      "Epoch 21499, global step 21500: 'loss' was not in top 1\n"
     ]
    },
    {
     "name": "stdout",
     "output_type": "stream",
     "text": [
      "Epoch 21999:  50%|█████     | 1/2 [00:00<00:00,  2.41it/s, v_num=2loc]\n",
      "Validation: 0it [00:00, ?it/s]\u001b[A\n",
      "Validation:   0%|          | 0/1 [00:00<?, ?it/s]\u001b[A\n",
      "Validation DataLoader 0:   0%|          | 0/1 [00:00<?, ?it/s]\u001b[A\n",
      "Epoch 21999: 100%|██████████| 2/2 [00:13<00:00,  6.63s/it, v_num=2loc]s]\u001b[A\n",
      "                                                                        \u001b[A"
     ]
    },
    {
     "name": "stderr",
     "output_type": "stream",
     "text": [
      "Epoch 21999, global step 22000: 'loss' was not in top 1\n"
     ]
    },
    {
     "name": "stdout",
     "output_type": "stream",
     "text": [
      "Epoch 22499:  50%|█████     | 1/2 [00:00<00:00,  2.45it/s, v_num=2loc]\n",
      "Validation: 0it [00:00, ?it/s]\u001b[A\n",
      "Validation:   0%|          | 0/1 [00:00<?, ?it/s]\u001b[A\n",
      "Validation DataLoader 0:   0%|          | 0/1 [00:00<?, ?it/s]\u001b[A\n",
      "Epoch 22499: 100%|██████████| 2/2 [00:12<00:00,  6.48s/it, v_num=2loc]]\u001b[A\n",
      "                                                                       \u001b[A"
     ]
    },
    {
     "name": "stderr",
     "output_type": "stream",
     "text": [
      "Epoch 22499, global step 22500: 'loss' was not in top 1\n"
     ]
    },
    {
     "name": "stdout",
     "output_type": "stream",
     "text": [
      "Epoch 22999:  50%|█████     | 1/2 [00:00<00:00,  2.43it/s, v_num=2loc]\n",
      "Validation: 0it [00:00, ?it/s]\u001b[A\n",
      "Validation:   0%|          | 0/1 [00:00<?, ?it/s]\u001b[A\n",
      "Validation DataLoader 0:   0%|          | 0/1 [00:00<?, ?it/s]\u001b[A\n",
      "Epoch 22999: 100%|██████████| 2/2 [00:13<00:00,  6.62s/it, v_num=2loc]s]\u001b[A\n",
      "                                                                        \u001b[A"
     ]
    },
    {
     "name": "stderr",
     "output_type": "stream",
     "text": [
      "Epoch 22999, global step 23000: 'loss' was not in top 1\n"
     ]
    },
    {
     "name": "stdout",
     "output_type": "stream",
     "text": [
      "Epoch 23499:  50%|█████     | 1/2 [00:00<00:00,  2.46it/s, v_num=2loc]\n",
      "Validation: 0it [00:00, ?it/s]\u001b[A\n",
      "Validation:   0%|          | 0/1 [00:00<?, ?it/s]\u001b[A\n",
      "Validation DataLoader 0:   0%|          | 0/1 [00:00<?, ?it/s]\u001b[A\n",
      "Epoch 23499: 100%|██████████| 2/2 [00:13<00:00,  6.50s/it, v_num=2loc]s]\u001b[A\n",
      "                                                                        \u001b[A"
     ]
    },
    {
     "name": "stderr",
     "output_type": "stream",
     "text": [
      "Epoch 23499, global step 23500: 'loss' was not in top 1\n"
     ]
    },
    {
     "name": "stdout",
     "output_type": "stream",
     "text": [
      "Epoch 23999:  50%|█████     | 1/2 [00:00<00:00,  2.46it/s, v_num=2loc]\n",
      "Validation: 0it [00:00, ?it/s]\u001b[A\n",
      "Validation:   0%|          | 0/1 [00:00<?, ?it/s]\u001b[A\n",
      "Validation DataLoader 0:   0%|          | 0/1 [00:00<?, ?it/s]\u001b[A\n",
      "Epoch 23999: 100%|██████████| 2/2 [00:13<00:00,  6.64s/it, v_num=2loc]s]\u001b[A\n",
      "                                                                        \u001b[A"
     ]
    },
    {
     "name": "stderr",
     "output_type": "stream",
     "text": [
      "Epoch 23999, global step 24000: 'loss' was not in top 1\n"
     ]
    },
    {
     "name": "stdout",
     "output_type": "stream",
     "text": [
      "Epoch 24499:  50%|█████     | 1/2 [00:00<00:00,  2.39it/s, v_num=2loc]\n",
      "Validation: 0it [00:00, ?it/s]\u001b[A\n",
      "Validation:   0%|          | 0/1 [00:00<?, ?it/s]\u001b[A\n",
      "Validation DataLoader 0:   0%|          | 0/1 [00:00<?, ?it/s]\u001b[A\n",
      "Epoch 24499: 100%|██████████| 2/2 [00:12<00:00,  6.49s/it, v_num=2loc]s]\u001b[A\n",
      "                                                                        \u001b[A"
     ]
    },
    {
     "name": "stderr",
     "output_type": "stream",
     "text": [
      "Epoch 24499, global step 24500: 'loss' was not in top 1\n"
     ]
    },
    {
     "name": "stdout",
     "output_type": "stream",
     "text": [
      "Epoch 24999:  50%|█████     | 1/2 [00:00<00:00,  2.41it/s, v_num=2loc]\n",
      "Validation: 0it [00:00, ?it/s]\u001b[A\n",
      "Validation:   0%|          | 0/1 [00:00<?, ?it/s]\u001b[A\n",
      "Validation DataLoader 0:   0%|          | 0/1 [00:00<?, ?it/s]\u001b[A\n",
      "Epoch 24999: 100%|██████████| 2/2 [00:13<00:00,  6.64s/it, v_num=2loc]]\u001b[A\n",
      "                                                                       \u001b[A"
     ]
    },
    {
     "name": "stderr",
     "output_type": "stream",
     "text": [
      "Epoch 24999, global step 25000: 'loss' was not in top 1\n"
     ]
    },
    {
     "name": "stdout",
     "output_type": "stream",
     "text": [
      "Epoch 25499:  50%|█████     | 1/2 [00:00<00:00,  2.44it/s, v_num=2loc]\n",
      "Validation: 0it [00:00, ?it/s]\u001b[A\n",
      "Validation:   0%|          | 0/1 [00:00<?, ?it/s]\u001b[A\n",
      "Validation DataLoader 0:   0%|          | 0/1 [00:00<?, ?it/s]\u001b[A\n",
      "Epoch 25499: 100%|██████████| 2/2 [00:13<00:00,  6.54s/it, v_num=2loc]]\u001b[A\n",
      "                                                                       \u001b[A"
     ]
    },
    {
     "name": "stderr",
     "output_type": "stream",
     "text": [
      "Epoch 25499, global step 25500: 'loss' was not in top 1\n"
     ]
    },
    {
     "name": "stdout",
     "output_type": "stream",
     "text": [
      "Epoch 25999:  50%|█████     | 1/2 [00:00<00:00,  2.45it/s, v_num=2loc]\n",
      "Validation: 0it [00:00, ?it/s]\u001b[A\n",
      "Validation:   0%|          | 0/1 [00:00<?, ?it/s]\u001b[A\n",
      "Validation DataLoader 0:   0%|          | 0/1 [00:00<?, ?it/s]\u001b[A\n",
      "Epoch 25999: 100%|██████████| 2/2 [00:13<00:00,  6.63s/it, v_num=2loc]]\u001b[A\n",
      "                                                                       \u001b[A"
     ]
    },
    {
     "name": "stderr",
     "output_type": "stream",
     "text": [
      "Epoch 25999, global step 26000: 'loss' was not in top 1\n"
     ]
    },
    {
     "name": "stdout",
     "output_type": "stream",
     "text": [
      "Epoch 26499:  50%|█████     | 1/2 [00:00<00:00,  2.46it/s, v_num=2loc]\n",
      "Validation: 0it [00:00, ?it/s]\u001b[A\n",
      "Validation:   0%|          | 0/1 [00:00<?, ?it/s]\u001b[A\n",
      "Validation DataLoader 0:   0%|          | 0/1 [00:00<?, ?it/s]\u001b[A\n",
      "Epoch 26499: 100%|██████████| 2/2 [00:12<00:00,  6.45s/it, v_num=2loc]s]\u001b[A\n",
      "                                                                        \u001b[A"
     ]
    },
    {
     "name": "stderr",
     "output_type": "stream",
     "text": [
      "Epoch 26499, global step 26500: 'loss' was not in top 1\n"
     ]
    },
    {
     "name": "stdout",
     "output_type": "stream",
     "text": [
      "Epoch 26999:  50%|█████     | 1/2 [00:00<00:00,  2.43it/s, v_num=2loc]\n",
      "Validation: 0it [00:00, ?it/s]\u001b[A\n",
      "Validation:   0%|          | 0/1 [00:00<?, ?it/s]\u001b[A\n",
      "Validation DataLoader 0:   0%|          | 0/1 [00:00<?, ?it/s]\u001b[A\n",
      "Epoch 26999: 100%|██████████| 2/2 [00:13<00:00,  6.59s/it, v_num=2loc]s]\u001b[A\n",
      "                                                                        \u001b[A"
     ]
    },
    {
     "name": "stderr",
     "output_type": "stream",
     "text": [
      "Epoch 26999, global step 27000: 'loss' was not in top 1\n"
     ]
    },
    {
     "name": "stdout",
     "output_type": "stream",
     "text": [
      "Epoch 27499:  50%|█████     | 1/2 [00:00<00:00,  2.44it/s, v_num=2loc]\n",
      "Validation: 0it [00:00, ?it/s]\u001b[A\n",
      "Validation:   0%|          | 0/1 [00:00<?, ?it/s]\u001b[A\n",
      "Validation DataLoader 0:   0%|          | 0/1 [00:00<?, ?it/s]\u001b[A\n",
      "Epoch 27499: 100%|██████████| 2/2 [00:13<00:00,  6.50s/it, v_num=2loc]s]\u001b[A\n",
      "                                                                        \u001b[A"
     ]
    },
    {
     "name": "stderr",
     "output_type": "stream",
     "text": [
      "Epoch 27499, global step 27500: 'loss' was not in top 1\n"
     ]
    },
    {
     "name": "stdout",
     "output_type": "stream",
     "text": [
      "Epoch 27999:  50%|█████     | 1/2 [00:00<00:00,  2.35it/s, v_num=2loc]\n",
      "Validation: 0it [00:00, ?it/s]\u001b[A\n",
      "Validation:   0%|          | 0/1 [00:00<?, ?it/s]\u001b[A\n",
      "Validation DataLoader 0:   0%|          | 0/1 [00:00<?, ?it/s]\u001b[A\n",
      "Epoch 27999: 100%|██████████| 2/2 [00:13<00:00,  6.68s/it, v_num=2loc]s]\u001b[A\n",
      "                                                                        \u001b[A"
     ]
    },
    {
     "name": "stderr",
     "output_type": "stream",
     "text": [
      "Epoch 27999, global step 28000: 'loss' was not in top 1\n"
     ]
    },
    {
     "name": "stdout",
     "output_type": "stream",
     "text": [
      "Epoch 28499:  50%|█████     | 1/2 [00:00<00:00,  2.43it/s, v_num=2loc]\n",
      "Validation: 0it [00:00, ?it/s]\u001b[A\n",
      "Validation:   0%|          | 0/1 [00:00<?, ?it/s]\u001b[A\n",
      "Validation DataLoader 0:   0%|          | 0/1 [00:00<?, ?it/s]\u001b[A\n",
      "Epoch 28499: 100%|██████████| 2/2 [00:13<00:00,  6.52s/it, v_num=2loc]]\u001b[A\n",
      "                                                                       \u001b[A"
     ]
    },
    {
     "name": "stderr",
     "output_type": "stream",
     "text": [
      "Epoch 28499, global step 28500: 'loss' reached 0.06629 (best 0.06629), saving model to './graph_diffusion_perceptron/bc5c2loc/checkpoints/epoch=28499-step=28500.ckpt' as top 1\n"
     ]
    },
    {
     "name": "stdout",
     "output_type": "stream",
     "text": [
      "Epoch 28999:  50%|█████     | 1/2 [00:00<00:00,  2.48it/s, v_num=2loc]\n",
      "Validation: 0it [00:00, ?it/s]\u001b[A\n",
      "Validation:   0%|          | 0/1 [00:00<?, ?it/s]\u001b[A\n",
      "Validation DataLoader 0:   0%|          | 0/1 [00:00<?, ?it/s]\u001b[A\n",
      "Epoch 28999: 100%|██████████| 2/2 [00:13<00:00,  6.67s/it, v_num=2loc]s]\u001b[A\n",
      "                                                                        \u001b[A"
     ]
    },
    {
     "name": "stderr",
     "output_type": "stream",
     "text": [
      "Epoch 28999, global step 29000: 'loss' was not in top 1\n"
     ]
    },
    {
     "name": "stdout",
     "output_type": "stream",
     "text": [
      "Epoch 29499:  50%|█████     | 1/2 [00:00<00:00,  2.47it/s, v_num=2loc]\n",
      "Validation: 0it [00:00, ?it/s]\u001b[A\n",
      "Validation:   0%|          | 0/1 [00:00<?, ?it/s]\u001b[A\n",
      "Validation DataLoader 0:   0%|          | 0/1 [00:00<?, ?it/s]\u001b[A\n",
      "Epoch 29499: 100%|██████████| 2/2 [00:13<00:00,  6.55s/it, v_num=2loc]]\u001b[A\n",
      "                                                                       \u001b[A"
     ]
    },
    {
     "name": "stderr",
     "output_type": "stream",
     "text": [
      "Epoch 29499, global step 29500: 'loss' was not in top 1\n"
     ]
    },
    {
     "name": "stdout",
     "output_type": "stream",
     "text": [
      "Epoch 29999:  50%|█████     | 1/2 [00:00<00:00,  2.46it/s, v_num=2loc]\n",
      "Validation: 0it [00:00, ?it/s]\u001b[A\n",
      "Validation:   0%|          | 0/1 [00:00<?, ?it/s]\u001b[A\n",
      "Validation DataLoader 0:   0%|          | 0/1 [00:00<?, ?it/s]\u001b[A\n",
      "Epoch 29999: 100%|██████████| 2/2 [00:13<00:00,  6.61s/it, v_num=2loc]s]\u001b[A\n",
      "                                                                        \u001b[A"
     ]
    },
    {
     "name": "stderr",
     "output_type": "stream",
     "text": [
      "Epoch 29999, global step 30000: 'loss' was not in top 1\n"
     ]
    },
    {
     "name": "stdout",
     "output_type": "stream",
     "text": [
      "Epoch 30499:  50%|█████     | 1/2 [00:00<00:00,  2.47it/s, v_num=2loc]\n",
      "Validation: 0it [00:00, ?it/s]\u001b[A\n",
      "Validation:   0%|          | 0/1 [00:00<?, ?it/s]\u001b[A\n",
      "Validation DataLoader 0:   0%|          | 0/1 [00:00<?, ?it/s]\u001b[A\n",
      "Epoch 30499: 100%|██████████| 2/2 [00:12<00:00,  6.47s/it, v_num=2loc]s]\u001b[A\n",
      "                                                                        \u001b[A"
     ]
    },
    {
     "name": "stderr",
     "output_type": "stream",
     "text": [
      "Epoch 30499, global step 30500: 'loss' was not in top 1\n"
     ]
    },
    {
     "name": "stdout",
     "output_type": "stream",
     "text": [
      "Epoch 30999:  50%|█████     | 1/2 [00:00<00:00,  2.45it/s, v_num=2loc]\n",
      "Validation: 0it [00:00, ?it/s]\u001b[A\n",
      "Validation:   0%|          | 0/1 [00:00<?, ?it/s]\u001b[A\n",
      "Validation DataLoader 0:   0%|          | 0/1 [00:00<?, ?it/s]\u001b[A\n",
      "Epoch 30999: 100%|██████████| 2/2 [00:12<00:00,  6.48s/it, v_num=2loc]s]\u001b[A\n",
      "                                                                        \u001b[A"
     ]
    },
    {
     "name": "stderr",
     "output_type": "stream",
     "text": [
      "Epoch 30999, global step 31000: 'loss' was not in top 1\n"
     ]
    },
    {
     "name": "stdout",
     "output_type": "stream",
     "text": [
      "Epoch 31499:  50%|█████     | 1/2 [00:00<00:00,  2.34it/s, v_num=2loc]\n",
      "Validation: 0it [00:00, ?it/s]\u001b[A\n",
      "Validation:   0%|          | 0/1 [00:00<?, ?it/s]\u001b[A\n",
      "Validation DataLoader 0:   0%|          | 0/1 [00:00<?, ?it/s]\u001b[A\n",
      "Epoch 31499: 100%|██████████| 2/2 [00:13<00:00,  6.52s/it, v_num=2loc]s]\u001b[A\n",
      "                                                                        \u001b[A"
     ]
    },
    {
     "name": "stderr",
     "output_type": "stream",
     "text": [
      "Epoch 31499, global step 31500: 'loss' was not in top 1\n"
     ]
    },
    {
     "name": "stdout",
     "output_type": "stream",
     "text": [
      "Epoch 31999:  50%|█████     | 1/2 [00:00<00:00,  2.46it/s, v_num=2loc]\n",
      "Validation: 0it [00:00, ?it/s]\u001b[A\n",
      "Validation:   0%|          | 0/1 [00:00<?, ?it/s]\u001b[A\n",
      "Validation DataLoader 0:   0%|          | 0/1 [00:00<?, ?it/s]\u001b[A\n",
      "Epoch 31999: 100%|██████████| 2/2 [00:12<00:00,  6.48s/it, v_num=2loc]s]\u001b[A\n",
      "                                                                        \u001b[A"
     ]
    },
    {
     "name": "stderr",
     "output_type": "stream",
     "text": [
      "Epoch 31999, global step 32000: 'loss' was not in top 1\n"
     ]
    },
    {
     "name": "stdout",
     "output_type": "stream",
     "text": [
      "Epoch 32499:  50%|█████     | 1/2 [00:00<00:00,  2.43it/s, v_num=2loc]\n",
      "Validation: 0it [00:00, ?it/s]\u001b[A\n",
      "Validation:   0%|          | 0/1 [00:00<?, ?it/s]\u001b[A\n",
      "Validation DataLoader 0:   0%|          | 0/1 [00:00<?, ?it/s]\u001b[A\n",
      "Epoch 32499: 100%|██████████| 2/2 [00:13<00:00,  6.50s/it, v_num=2loc]]\u001b[A\n",
      "                                                                       \u001b[A"
     ]
    },
    {
     "name": "stderr",
     "output_type": "stream",
     "text": [
      "Epoch 32499, global step 32500: 'loss' was not in top 1\n"
     ]
    },
    {
     "name": "stdout",
     "output_type": "stream",
     "text": [
      "Epoch 32999:  50%|█████     | 1/2 [00:00<00:00,  2.45it/s, v_num=2loc]\n",
      "Validation: 0it [00:00, ?it/s]\u001b[A\n",
      "Validation:   0%|          | 0/1 [00:00<?, ?it/s]\u001b[A\n",
      "Validation DataLoader 0:   0%|          | 0/1 [00:00<?, ?it/s]\u001b[A\n",
      "Epoch 32999: 100%|██████████| 2/2 [00:13<00:00,  6.54s/it, v_num=2loc]s]\u001b[A\n",
      "                                                                        \u001b[A"
     ]
    },
    {
     "name": "stderr",
     "output_type": "stream",
     "text": [
      "Epoch 32999, global step 33000: 'loss' was not in top 1\n"
     ]
    },
    {
     "name": "stdout",
     "output_type": "stream",
     "text": [
      "Epoch 33499:  50%|█████     | 1/2 [00:00<00:00,  2.46it/s, v_num=2loc]\n",
      "Validation: 0it [00:00, ?it/s]\u001b[A\n",
      "Validation:   0%|          | 0/1 [00:00<?, ?it/s]\u001b[A\n",
      "Validation DataLoader 0:   0%|          | 0/1 [00:00<?, ?it/s]\u001b[A\n",
      "Epoch 33499: 100%|██████████| 2/2 [00:12<00:00,  6.49s/it, v_num=2loc]s]\u001b[A\n",
      "                                                                        \u001b[A"
     ]
    },
    {
     "name": "stderr",
     "output_type": "stream",
     "text": [
      "Epoch 33499, global step 33500: 'loss' was not in top 1\n"
     ]
    },
    {
     "name": "stdout",
     "output_type": "stream",
     "text": [
      "Epoch 33999:  50%|█████     | 1/2 [00:00<00:00,  2.45it/s, v_num=2loc]\n",
      "Validation: 0it [00:00, ?it/s]\u001b[A\n",
      "Validation:   0%|          | 0/1 [00:00<?, ?it/s]\u001b[A\n",
      "Validation DataLoader 0:   0%|          | 0/1 [00:00<?, ?it/s]\u001b[A\n",
      "Epoch 33999: 100%|██████████| 2/2 [00:13<00:00,  6.52s/it, v_num=2loc]]\u001b[A\n",
      "                                                                       \u001b[A"
     ]
    },
    {
     "name": "stderr",
     "output_type": "stream",
     "text": [
      "Epoch 33999, global step 34000: 'loss' was not in top 1\n"
     ]
    },
    {
     "name": "stdout",
     "output_type": "stream",
     "text": [
      "Epoch 34499:  50%|█████     | 1/2 [00:00<00:00,  2.45it/s, v_num=2loc]\n",
      "Validation: 0it [00:00, ?it/s]\u001b[A\n",
      "Validation:   0%|          | 0/1 [00:00<?, ?it/s]\u001b[A\n",
      "Validation DataLoader 0:   0%|          | 0/1 [00:00<?, ?it/s]\u001b[A\n",
      "Epoch 34499: 100%|██████████| 2/2 [00:13<00:00,  6.62s/it, v_num=2loc]]\u001b[A\n",
      "                                                                       \u001b[A"
     ]
    },
    {
     "name": "stderr",
     "output_type": "stream",
     "text": [
      "Epoch 34499, global step 34500: 'loss' was not in top 1\n"
     ]
    },
    {
     "name": "stdout",
     "output_type": "stream",
     "text": [
      "Epoch 34999:  50%|█████     | 1/2 [00:00<00:00,  2.47it/s, v_num=2loc]\n",
      "Validation: 0it [00:00, ?it/s]\u001b[A\n",
      "Validation:   0%|          | 0/1 [00:00<?, ?it/s]\u001b[A\n",
      "Validation DataLoader 0:   0%|          | 0/1 [00:00<?, ?it/s]\u001b[A\n",
      "Epoch 34999: 100%|██████████| 2/2 [00:12<00:00,  6.50s/it, v_num=2loc]]\u001b[A\n",
      "                                                                       \u001b[A"
     ]
    },
    {
     "name": "stderr",
     "output_type": "stream",
     "text": [
      "Epoch 34999, global step 35000: 'loss' was not in top 1\n"
     ]
    },
    {
     "name": "stdout",
     "output_type": "stream",
     "text": [
      "Epoch 35499:  50%|█████     | 1/2 [00:00<00:00,  2.41it/s, v_num=2loc]\n",
      "Validation: 0it [00:00, ?it/s]\u001b[A\n",
      "Validation:   0%|          | 0/1 [00:00<?, ?it/s]\u001b[A\n",
      "Validation DataLoader 0:   0%|          | 0/1 [00:00<?, ?it/s]\u001b[A\n",
      "Epoch 35499: 100%|██████████| 2/2 [00:13<00:00,  6.69s/it, v_num=2loc]s]\u001b[A\n",
      "                                                                        \u001b[A"
     ]
    },
    {
     "name": "stderr",
     "output_type": "stream",
     "text": [
      "Epoch 35499, global step 35500: 'loss' reached 0.06431 (best 0.06431), saving model to './graph_diffusion_perceptron/bc5c2loc/checkpoints/epoch=35499-step=35500.ckpt' as top 1\n"
     ]
    },
    {
     "name": "stdout",
     "output_type": "stream",
     "text": [
      "Epoch 35999:  50%|█████     | 1/2 [00:00<00:00,  2.48it/s, v_num=2loc]\n",
      "Validation: 0it [00:00, ?it/s]\u001b[A\n",
      "Validation:   0%|          | 0/1 [00:00<?, ?it/s]\u001b[A\n",
      "Validation DataLoader 0:   0%|          | 0/1 [00:00<?, ?it/s]\u001b[A\n",
      "Epoch 35999: 100%|██████████| 2/2 [00:13<00:00,  6.54s/it, v_num=2loc]s]\u001b[A\n",
      "                                                                        \u001b[A"
     ]
    },
    {
     "name": "stderr",
     "output_type": "stream",
     "text": [
      "Epoch 35999, global step 36000: 'loss' was not in top 1\n"
     ]
    },
    {
     "name": "stdout",
     "output_type": "stream",
     "text": [
      "Epoch 36499:  50%|█████     | 1/2 [00:00<00:00,  2.35it/s, v_num=2loc]\n",
      "Validation: 0it [00:00, ?it/s]\u001b[A\n",
      "Validation:   0%|          | 0/1 [00:00<?, ?it/s]\u001b[A\n",
      "Validation DataLoader 0:   0%|          | 0/1 [00:00<?, ?it/s]\u001b[A\n",
      "Epoch 36499: 100%|██████████| 2/2 [00:13<00:00,  6.69s/it, v_num=2loc]s]\u001b[A\n",
      "                                                                        \u001b[A"
     ]
    },
    {
     "name": "stderr",
     "output_type": "stream",
     "text": [
      "Epoch 36499, global step 36500: 'loss' was not in top 1\n"
     ]
    },
    {
     "name": "stdout",
     "output_type": "stream",
     "text": [
      "Epoch 36999:  50%|█████     | 1/2 [00:00<00:00,  2.41it/s, v_num=2loc]\n",
      "Validation: 0it [00:00, ?it/s]\u001b[A\n",
      "Validation:   0%|          | 0/1 [00:00<?, ?it/s]\u001b[A\n",
      "Validation DataLoader 0:   0%|          | 0/1 [00:00<?, ?it/s]\u001b[A\n",
      "Epoch 36999: 100%|██████████| 2/2 [00:13<00:00,  6.51s/it, v_num=2loc]]\u001b[A\n",
      "                                                                       \u001b[A"
     ]
    },
    {
     "name": "stderr",
     "output_type": "stream",
     "text": [
      "Epoch 36999, global step 37000: 'loss' was not in top 1\n"
     ]
    },
    {
     "name": "stdout",
     "output_type": "stream",
     "text": [
      "Epoch 37499:  50%|█████     | 1/2 [00:00<00:00,  2.47it/s, v_num=2loc]\n",
      "Validation: 0it [00:00, ?it/s]\u001b[A\n",
      "Validation:   0%|          | 0/1 [00:00<?, ?it/s]\u001b[A\n",
      "Validation DataLoader 0:   0%|          | 0/1 [00:00<?, ?it/s]\u001b[A\n",
      "Epoch 37499: 100%|██████████| 2/2 [00:13<00:00,  6.58s/it, v_num=2loc]]\u001b[A\n",
      "                                                                       \u001b[A"
     ]
    },
    {
     "name": "stderr",
     "output_type": "stream",
     "text": [
      "Epoch 37499, global step 37500: 'loss' was not in top 1\n"
     ]
    },
    {
     "name": "stdout",
     "output_type": "stream",
     "text": [
      "Epoch 37999:  50%|█████     | 1/2 [00:00<00:00,  2.45it/s, v_num=2loc]\n",
      "Validation: 0it [00:00, ?it/s]\u001b[A\n",
      "Validation:   0%|          | 0/1 [00:00<?, ?it/s]\u001b[A\n",
      "Validation DataLoader 0:   0%|          | 0/1 [00:00<?, ?it/s]\u001b[A\n",
      "Epoch 37999: 100%|██████████| 2/2 [00:13<00:00,  6.52s/it, v_num=2loc]s]\u001b[A\n",
      "                                                                        \u001b[A"
     ]
    },
    {
     "name": "stderr",
     "output_type": "stream",
     "text": [
      "Epoch 37999, global step 38000: 'loss' was not in top 1\n"
     ]
    },
    {
     "name": "stdout",
     "output_type": "stream",
     "text": [
      "Epoch 38499:  50%|█████     | 1/2 [00:00<00:00,  2.47it/s, v_num=2loc]\n",
      "Validation: 0it [00:00, ?it/s]\u001b[A\n",
      "Validation:   0%|          | 0/1 [00:00<?, ?it/s]\u001b[A\n",
      "Validation DataLoader 0:   0%|          | 0/1 [00:00<?, ?it/s]\u001b[A\n",
      "Epoch 38499: 100%|██████████| 2/2 [00:13<00:00,  6.62s/it, v_num=2loc]]\u001b[A\n",
      "                                                                       \u001b[A"
     ]
    },
    {
     "name": "stderr",
     "output_type": "stream",
     "text": [
      "Epoch 38499, global step 38500: 'loss' was not in top 1\n"
     ]
    },
    {
     "name": "stdout",
     "output_type": "stream",
     "text": [
      "Epoch 38999:  50%|█████     | 1/2 [00:00<00:00,  2.46it/s, v_num=2loc]\n",
      "Validation: 0it [00:00, ?it/s]\u001b[A\n",
      "Validation:   0%|          | 0/1 [00:00<?, ?it/s]\u001b[A\n",
      "Validation DataLoader 0:   0%|          | 0/1 [00:00<?, ?it/s]\u001b[A\n",
      "Epoch 38999: 100%|██████████| 2/2 [00:12<00:00,  6.49s/it, v_num=2loc]s]\u001b[A\n",
      "                                                                        \u001b[A"
     ]
    },
    {
     "name": "stderr",
     "output_type": "stream",
     "text": [
      "Epoch 38999, global step 39000: 'loss' was not in top 1\n"
     ]
    },
    {
     "name": "stdout",
     "output_type": "stream",
     "text": [
      "Epoch 39499:  50%|█████     | 1/2 [00:00<00:00,  2.46it/s, v_num=2loc]\n",
      "Validation: 0it [00:00, ?it/s]\u001b[A\n",
      "Validation:   0%|          | 0/1 [00:00<?, ?it/s]\u001b[A\n",
      "Validation DataLoader 0:   0%|          | 0/1 [00:00<?, ?it/s]\u001b[A\n",
      "Epoch 39499: 100%|██████████| 2/2 [00:13<00:00,  6.65s/it, v_num=2loc]]\u001b[A\n",
      "                                                                       \u001b[A"
     ]
    },
    {
     "name": "stderr",
     "output_type": "stream",
     "text": [
      "Epoch 39499, global step 39500: 'loss' was not in top 1\n"
     ]
    },
    {
     "name": "stdout",
     "output_type": "stream",
     "text": [
      "Epoch 39999:  50%|█████     | 1/2 [00:00<00:00,  2.46it/s, v_num=2loc]\n",
      "Validation: 0it [00:00, ?it/s]\u001b[A\n",
      "Validation:   0%|          | 0/1 [00:00<?, ?it/s]\u001b[A\n",
      "Validation DataLoader 0:   0%|          | 0/1 [00:00<?, ?it/s]\u001b[A\n",
      "Epoch 39999: 100%|██████████| 2/2 [00:13<00:00,  6.55s/it, v_num=2loc]]\u001b[A\n",
      "                                                                       \u001b[A"
     ]
    },
    {
     "name": "stderr",
     "output_type": "stream",
     "text": [
      "Epoch 39999, global step 40000: 'loss' was not in top 1\n"
     ]
    },
    {
     "name": "stdout",
     "output_type": "stream",
     "text": [
      "Epoch 40499:  50%|█████     | 1/2 [00:00<00:00,  2.47it/s, v_num=2loc]\n",
      "Validation: 0it [00:00, ?it/s]\u001b[A\n",
      "Validation:   0%|          | 0/1 [00:00<?, ?it/s]\u001b[A\n",
      "Validation DataLoader 0:   0%|          | 0/1 [00:00<?, ?it/s]\u001b[A\n",
      "Epoch 40499: 100%|██████████| 2/2 [00:13<00:00,  6.64s/it, v_num=2loc]]\u001b[A\n",
      "                                                                       \u001b[A"
     ]
    },
    {
     "name": "stderr",
     "output_type": "stream",
     "text": [
      "Epoch 40499, global step 40500: 'loss' was not in top 1\n"
     ]
    },
    {
     "name": "stdout",
     "output_type": "stream",
     "text": [
      "Epoch 40999:  50%|█████     | 1/2 [00:00<00:00,  2.47it/s, v_num=2loc]\n",
      "Validation: 0it [00:00, ?it/s]\u001b[A\n",
      "Validation:   0%|          | 0/1 [00:00<?, ?it/s]\u001b[A\n",
      "Validation DataLoader 0:   0%|          | 0/1 [00:00<?, ?it/s]\u001b[A\n",
      "Epoch 40999: 100%|██████████| 2/2 [00:13<00:00,  6.52s/it, v_num=2loc]s]\u001b[A\n",
      "                                                                        \u001b[A"
     ]
    },
    {
     "name": "stderr",
     "output_type": "stream",
     "text": [
      "Epoch 40999, global step 41000: 'loss' was not in top 1\n"
     ]
    },
    {
     "name": "stdout",
     "output_type": "stream",
     "text": [
      "Epoch 41499:  50%|█████     | 1/2 [00:00<00:00,  2.48it/s, v_num=2loc]\n",
      "Validation: 0it [00:00, ?it/s]\u001b[A\n",
      "Validation:   0%|          | 0/1 [00:00<?, ?it/s]\u001b[A\n",
      "Validation DataLoader 0:   0%|          | 0/1 [00:00<?, ?it/s]\u001b[A\n",
      "Epoch 41499: 100%|██████████| 2/2 [00:13<00:00,  6.72s/it, v_num=2loc]s]\u001b[A\n",
      "                                                                        \u001b[A"
     ]
    },
    {
     "name": "stderr",
     "output_type": "stream",
     "text": [
      "Epoch 41499, global step 41500: 'loss' was not in top 1\n"
     ]
    },
    {
     "name": "stdout",
     "output_type": "stream",
     "text": [
      "Epoch 41999:  50%|█████     | 1/2 [00:00<00:00,  2.47it/s, v_num=2loc]\n",
      "Validation: 0it [00:00, ?it/s]\u001b[A\n",
      "Validation:   0%|          | 0/1 [00:00<?, ?it/s]\u001b[A\n",
      "Validation DataLoader 0:   0%|          | 0/1 [00:00<?, ?it/s]\u001b[A\n",
      "Epoch 41999: 100%|██████████| 2/2 [00:12<00:00,  6.48s/it, v_num=2loc]]\u001b[A\n",
      "                                                                       \u001b[A"
     ]
    },
    {
     "name": "stderr",
     "output_type": "stream",
     "text": [
      "Epoch 41999, global step 42000: 'loss' was not in top 1\n"
     ]
    },
    {
     "name": "stdout",
     "output_type": "stream",
     "text": [
      "Epoch 42499:  50%|█████     | 1/2 [00:00<00:00,  2.46it/s, v_num=2loc]\n",
      "Validation: 0it [00:00, ?it/s]\u001b[A\n",
      "Validation:   0%|          | 0/1 [00:00<?, ?it/s]\u001b[A\n",
      "Validation DataLoader 0:   0%|          | 0/1 [00:00<?, ?it/s]\u001b[A\n",
      "Epoch 42499: 100%|██████████| 2/2 [00:13<00:00,  6.52s/it, v_num=2loc]s]\u001b[A\n",
      "                                                                        \u001b[A"
     ]
    },
    {
     "name": "stderr",
     "output_type": "stream",
     "text": [
      "Epoch 42499, global step 42500: 'loss' was not in top 1\n"
     ]
    },
    {
     "name": "stdout",
     "output_type": "stream",
     "text": [
      "Epoch 42999:  50%|█████     | 1/2 [00:00<00:00,  2.47it/s, v_num=2loc]\n",
      "Validation: 0it [00:00, ?it/s]\u001b[A\n",
      "Validation:   0%|          | 0/1 [00:00<?, ?it/s]\u001b[A\n",
      "Validation DataLoader 0:   0%|          | 0/1 [00:00<?, ?it/s]\u001b[A\n",
      "Epoch 42999: 100%|██████████| 2/2 [00:12<00:00,  6.48s/it, v_num=2loc]s]\u001b[A\n",
      "                                                                        \u001b[A"
     ]
    },
    {
     "name": "stderr",
     "output_type": "stream",
     "text": [
      "Epoch 42999, global step 43000: 'loss' was not in top 1\n"
     ]
    },
    {
     "name": "stdout",
     "output_type": "stream",
     "text": [
      "Epoch 43499:  50%|█████     | 1/2 [00:00<00:00,  2.47it/s, v_num=2loc]\n",
      "Validation: 0it [00:00, ?it/s]\u001b[A\n",
      "Validation:   0%|          | 0/1 [00:00<?, ?it/s]\u001b[A\n",
      "Validation DataLoader 0:   0%|          | 0/1 [00:00<?, ?it/s]\u001b[A\n",
      "Epoch 43499: 100%|██████████| 2/2 [00:13<00:00,  6.54s/it, v_num=2loc]s]\u001b[A\n",
      "                                                                        \u001b[A"
     ]
    },
    {
     "name": "stderr",
     "output_type": "stream",
     "text": [
      "Epoch 43499, global step 43500: 'loss' was not in top 1\n"
     ]
    },
    {
     "name": "stdout",
     "output_type": "stream",
     "text": [
      "Epoch 43999:  50%|█████     | 1/2 [00:00<00:00,  2.43it/s, v_num=2loc]\n",
      "Validation: 0it [00:00, ?it/s]\u001b[A\n",
      "Validation:   0%|          | 0/1 [00:00<?, ?it/s]\u001b[A\n",
      "Validation DataLoader 0:   0%|          | 0/1 [00:00<?, ?it/s]\u001b[A\n",
      "Epoch 43999: 100%|██████████| 2/2 [00:12<00:00,  6.50s/it, v_num=2loc]s]\u001b[A\n",
      "                                                                        \u001b[A"
     ]
    },
    {
     "name": "stderr",
     "output_type": "stream",
     "text": [
      "Epoch 43999, global step 44000: 'loss' reached 0.06270 (best 0.06270), saving model to './graph_diffusion_perceptron/bc5c2loc/checkpoints/epoch=43999-step=44000.ckpt' as top 1\n"
     ]
    },
    {
     "name": "stdout",
     "output_type": "stream",
     "text": [
      "Epoch 44499:  50%|█████     | 1/2 [00:00<00:00,  2.47it/s, v_num=2loc]\n",
      "Validation: 0it [00:00, ?it/s]\u001b[A\n",
      "Validation:   0%|          | 0/1 [00:00<?, ?it/s]\u001b[A\n",
      "Validation DataLoader 0:   0%|          | 0/1 [00:00<?, ?it/s]\u001b[A\n",
      "Epoch 44499: 100%|██████████| 2/2 [00:13<00:00,  6.61s/it, v_num=2loc]]\u001b[A\n",
      "                                                                       \u001b[A"
     ]
    },
    {
     "name": "stderr",
     "output_type": "stream",
     "text": [
      "Epoch 44499, global step 44500: 'loss' was not in top 1\n"
     ]
    },
    {
     "name": "stdout",
     "output_type": "stream",
     "text": [
      "Epoch 44999:  50%|█████     | 1/2 [00:00<00:00,  2.46it/s, v_num=2loc]\n",
      "Validation: 0it [00:00, ?it/s]\u001b[A\n",
      "Validation:   0%|          | 0/1 [00:00<?, ?it/s]\u001b[A\n",
      "Validation DataLoader 0:   0%|          | 0/1 [00:00<?, ?it/s]\u001b[A\n",
      "Epoch 44999: 100%|██████████| 2/2 [00:12<00:00,  6.48s/it, v_num=2loc]]\u001b[A\n",
      "                                                                       \u001b[A"
     ]
    },
    {
     "name": "stderr",
     "output_type": "stream",
     "text": [
      "Epoch 44999, global step 45000: 'loss' was not in top 1\n"
     ]
    },
    {
     "name": "stdout",
     "output_type": "stream",
     "text": [
      "Epoch 45499:  50%|█████     | 1/2 [00:00<00:00,  2.38it/s, v_num=2loc]\n",
      "Validation: 0it [00:00, ?it/s]\u001b[A\n",
      "Validation:   0%|          | 0/1 [00:00<?, ?it/s]\u001b[A\n",
      "Validation DataLoader 0:   0%|          | 0/1 [00:00<?, ?it/s]\u001b[A\n",
      "Epoch 45499: 100%|██████████| 2/2 [00:13<00:00,  6.52s/it, v_num=2loc]s]\u001b[A\n",
      "                                                                        \u001b[A"
     ]
    },
    {
     "name": "stderr",
     "output_type": "stream",
     "text": [
      "Epoch 45499, global step 45500: 'loss' was not in top 1\n"
     ]
    },
    {
     "name": "stdout",
     "output_type": "stream",
     "text": [
      "Epoch 45999:  50%|█████     | 1/2 [00:00<00:00,  2.46it/s, v_num=2loc]\n",
      "Validation: 0it [00:00, ?it/s]\u001b[A\n",
      "Validation:   0%|          | 0/1 [00:00<?, ?it/s]\u001b[A\n",
      "Validation DataLoader 0:   0%|          | 0/1 [00:00<?, ?it/s]\u001b[A\n",
      "Epoch 45999: 100%|██████████| 2/2 [00:12<00:00,  6.47s/it, v_num=2loc]s]\u001b[A\n",
      "                                                                        \u001b[A"
     ]
    },
    {
     "name": "stderr",
     "output_type": "stream",
     "text": [
      "Epoch 45999, global step 46000: 'loss' was not in top 1\n"
     ]
    },
    {
     "name": "stdout",
     "output_type": "stream",
     "text": [
      "Epoch 46499:  50%|█████     | 1/2 [00:00<00:00,  2.47it/s, v_num=2loc]\n",
      "Validation: 0it [00:00, ?it/s]\u001b[A\n",
      "Validation:   0%|          | 0/1 [00:00<?, ?it/s]\u001b[A\n",
      "Validation DataLoader 0:   0%|          | 0/1 [00:00<?, ?it/s]\u001b[A\n",
      "Epoch 46499: 100%|██████████| 2/2 [00:13<00:00,  6.53s/it, v_num=2loc]s]\u001b[A\n",
      "                                                                        \u001b[A"
     ]
    },
    {
     "name": "stderr",
     "output_type": "stream",
     "text": [
      "Epoch 46499, global step 46500: 'loss' was not in top 1\n"
     ]
    },
    {
     "name": "stdout",
     "output_type": "stream",
     "text": [
      "Epoch 46999:  50%|█████     | 1/2 [00:00<00:00,  2.48it/s, v_num=2loc]\n",
      "Validation: 0it [00:00, ?it/s]\u001b[A\n",
      "Validation:   0%|          | 0/1 [00:00<?, ?it/s]\u001b[A\n",
      "Validation DataLoader 0:   0%|          | 0/1 [00:00<?, ?it/s]\u001b[A\n",
      "Epoch 46999: 100%|██████████| 2/2 [00:13<00:00,  6.53s/it, v_num=2loc]s]\u001b[A\n",
      "                                                                        \u001b[A"
     ]
    },
    {
     "name": "stderr",
     "output_type": "stream",
     "text": [
      "Epoch 46999, global step 47000: 'loss' was not in top 1\n"
     ]
    },
    {
     "name": "stdout",
     "output_type": "stream",
     "text": [
      "Epoch 47499:  50%|█████     | 1/2 [00:00<00:00,  2.47it/s, v_num=2loc]\n",
      "Validation: 0it [00:00, ?it/s]\u001b[A\n",
      "Validation:   0%|          | 0/1 [00:00<?, ?it/s]\u001b[A\n",
      "Validation DataLoader 0:   0%|          | 0/1 [00:00<?, ?it/s]\u001b[A\n",
      "Epoch 47499: 100%|██████████| 2/2 [00:13<00:00,  6.55s/it, v_num=2loc]s]\u001b[A\n",
      "                                                                        \u001b[A"
     ]
    },
    {
     "name": "stderr",
     "output_type": "stream",
     "text": [
      "Epoch 47499, global step 47500: 'loss' was not in top 1\n"
     ]
    },
    {
     "name": "stdout",
     "output_type": "stream",
     "text": [
      "Epoch 47999:  50%|█████     | 1/2 [00:00<00:00,  2.46it/s, v_num=2loc]\n",
      "Validation: 0it [00:00, ?it/s]\u001b[A\n",
      "Validation:   0%|          | 0/1 [00:00<?, ?it/s]\u001b[A\n",
      "Validation DataLoader 0:   0%|          | 0/1 [00:00<?, ?it/s]\u001b[A\n",
      "Epoch 47999: 100%|██████████| 2/2 [00:13<00:00,  6.60s/it, v_num=2loc]]\u001b[A\n",
      "                                                                       \u001b[A"
     ]
    },
    {
     "name": "stderr",
     "output_type": "stream",
     "text": [
      "Epoch 47999, global step 48000: 'loss' was not in top 1\n"
     ]
    },
    {
     "name": "stdout",
     "output_type": "stream",
     "text": [
      "Epoch 48499:  50%|█████     | 1/2 [00:00<00:00,  2.44it/s, v_num=2loc]\n",
      "Validation: 0it [00:00, ?it/s]\u001b[A\n",
      "Validation:   0%|          | 0/1 [00:00<?, ?it/s]\u001b[A\n",
      "Validation DataLoader 0:   0%|          | 0/1 [00:00<?, ?it/s]\u001b[A\n",
      "Epoch 48499: 100%|██████████| 2/2 [00:13<00:00,  6.50s/it, v_num=2loc]s]\u001b[A\n",
      "                                                                        \u001b[A"
     ]
    },
    {
     "name": "stderr",
     "output_type": "stream",
     "text": [
      "Epoch 48499, global step 48500: 'loss' was not in top 1\n"
     ]
    },
    {
     "name": "stdout",
     "output_type": "stream",
     "text": [
      "Epoch 48999:  50%|█████     | 1/2 [00:00<00:00,  2.47it/s, v_num=2loc]\n",
      "Validation: 0it [00:00, ?it/s]\u001b[A\n",
      "Validation:   0%|          | 0/1 [00:00<?, ?it/s]\u001b[A\n",
      "Validation DataLoader 0:   0%|          | 0/1 [00:00<?, ?it/s]\u001b[A\n",
      "Epoch 48999: 100%|██████████| 2/2 [00:13<00:00,  6.64s/it, v_num=2loc]s]\u001b[A\n",
      "                                                                        \u001b[A"
     ]
    },
    {
     "name": "stderr",
     "output_type": "stream",
     "text": [
      "Epoch 48999, global step 49000: 'loss' was not in top 1\n"
     ]
    },
    {
     "name": "stdout",
     "output_type": "stream",
     "text": [
      "Epoch 49499:  50%|█████     | 1/2 [00:00<00:00,  2.47it/s, v_num=2loc]\n",
      "Validation: 0it [00:00, ?it/s]\u001b[A\n",
      "Validation:   0%|          | 0/1 [00:00<?, ?it/s]\u001b[A\n",
      "Validation DataLoader 0:   0%|          | 0/1 [00:00<?, ?it/s]\u001b[A\n",
      "Epoch 49499: 100%|██████████| 2/2 [00:12<00:00,  6.47s/it, v_num=2loc]]\u001b[A\n",
      "                                                                       \u001b[A"
     ]
    },
    {
     "name": "stderr",
     "output_type": "stream",
     "text": [
      "Epoch 49499, global step 49500: 'loss' was not in top 1\n"
     ]
    },
    {
     "name": "stdout",
     "output_type": "stream",
     "text": [
      "Epoch 49999:  50%|█████     | 1/2 [00:00<00:00,  2.44it/s, v_num=2loc]\n",
      "Validation: 0it [00:00, ?it/s]\u001b[A\n",
      "Validation:   0%|          | 0/1 [00:00<?, ?it/s]\u001b[A\n",
      "Validation DataLoader 0:   0%|          | 0/1 [00:00<?, ?it/s]\u001b[A\n",
      "Epoch 49999: 100%|██████████| 2/2 [00:13<00:00,  6.59s/it, v_num=2loc]]\u001b[A\n",
      "                                                                       \u001b[A"
     ]
    },
    {
     "name": "stderr",
     "output_type": "stream",
     "text": [
      "Epoch 49999, global step 50000: 'loss' was not in top 1\n"
     ]
    },
    {
     "name": "stdout",
     "output_type": "stream",
     "text": [
      "Epoch 50499:  50%|█████     | 1/2 [00:00<00:00,  2.38it/s, v_num=2loc]\n",
      "Validation: 0it [00:00, ?it/s]\u001b[A\n",
      "Validation:   0%|          | 0/1 [00:00<?, ?it/s]\u001b[A\n",
      "Validation DataLoader 0:   0%|          | 0/1 [00:00<?, ?it/s]\u001b[A\n",
      "Epoch 50499: 100%|██████████| 2/2 [00:13<00:00,  6.51s/it, v_num=2loc]s]\u001b[A\n",
      "                                                                        \u001b[A"
     ]
    },
    {
     "name": "stderr",
     "output_type": "stream",
     "text": [
      "Epoch 50499, global step 50500: 'loss' was not in top 1\n"
     ]
    },
    {
     "name": "stdout",
     "output_type": "stream",
     "text": [
      "Epoch 50999:  50%|█████     | 1/2 [00:00<00:00,  2.35it/s, v_num=2loc]\n",
      "Validation: 0it [00:00, ?it/s]\u001b[A\n",
      "Validation:   0%|          | 0/1 [00:00<?, ?it/s]\u001b[A\n",
      "Validation DataLoader 0:   0%|          | 0/1 [00:00<?, ?it/s]\u001b[A\n",
      "Epoch 50999: 100%|██████████| 2/2 [00:13<00:00,  6.70s/it, v_num=2loc]s]\u001b[A\n",
      "                                                                        \u001b[A"
     ]
    },
    {
     "name": "stderr",
     "output_type": "stream",
     "text": [
      "Epoch 50999, global step 51000: 'loss' was not in top 1\n"
     ]
    },
    {
     "name": "stdout",
     "output_type": "stream",
     "text": [
      "Epoch 51499:  50%|█████     | 1/2 [00:00<00:00,  2.47it/s, v_num=2loc]\n",
      "Validation: 0it [00:00, ?it/s]\u001b[A\n",
      "Validation:   0%|          | 0/1 [00:00<?, ?it/s]\u001b[A\n",
      "Validation DataLoader 0:   0%|          | 0/1 [00:00<?, ?it/s]\u001b[A\n",
      "Epoch 51499: 100%|██████████| 2/2 [00:12<00:00,  6.48s/it, v_num=2loc]]\u001b[A\n",
      "                                                                       \u001b[A"
     ]
    },
    {
     "name": "stderr",
     "output_type": "stream",
     "text": [
      "Epoch 51499, global step 51500: 'loss' was not in top 1\n"
     ]
    },
    {
     "name": "stdout",
     "output_type": "stream",
     "text": [
      "Epoch 51999:  50%|█████     | 1/2 [00:00<00:00,  2.47it/s, v_num=2loc]\n",
      "Validation: 0it [00:00, ?it/s]\u001b[A\n",
      "Validation:   0%|          | 0/1 [00:00<?, ?it/s]\u001b[A\n",
      "Validation DataLoader 0:   0%|          | 0/1 [00:00<?, ?it/s]\u001b[A\n",
      "Epoch 51999: 100%|██████████| 2/2 [00:13<00:00,  6.69s/it, v_num=2loc]]\u001b[A\n",
      "                                                                       \u001b[A"
     ]
    },
    {
     "name": "stderr",
     "output_type": "stream",
     "text": [
      "Epoch 51999, global step 52000: 'loss' was not in top 1\n"
     ]
    },
    {
     "name": "stdout",
     "output_type": "stream",
     "text": [
      "Epoch 52499:  50%|█████     | 1/2 [00:00<00:00,  2.47it/s, v_num=2loc]\n",
      "Validation: 0it [00:00, ?it/s]\u001b[A\n",
      "Validation:   0%|          | 0/1 [00:00<?, ?it/s]\u001b[A\n",
      "Validation DataLoader 0:   0%|          | 0/1 [00:00<?, ?it/s]\u001b[A\n",
      "Epoch 52499: 100%|██████████| 2/2 [00:12<00:00,  6.49s/it, v_num=2loc]s]\u001b[A\n",
      "                                                                        \u001b[A"
     ]
    },
    {
     "name": "stderr",
     "output_type": "stream",
     "text": [
      "Epoch 52499, global step 52500: 'loss' was not in top 1\n"
     ]
    },
    {
     "name": "stdout",
     "output_type": "stream",
     "text": [
      "Epoch 52999:  50%|█████     | 1/2 [00:00<00:00,  2.48it/s, v_num=2loc]\n",
      "Validation: 0it [00:00, ?it/s]\u001b[A\n",
      "Validation:   0%|          | 0/1 [00:00<?, ?it/s]\u001b[A\n",
      "Validation DataLoader 0:   0%|          | 0/1 [00:00<?, ?it/s]\u001b[A\n",
      "Epoch 52999: 100%|██████████| 2/2 [00:13<00:00,  6.59s/it, v_num=2loc]]\u001b[A\n",
      "                                                                       \u001b[A"
     ]
    },
    {
     "name": "stderr",
     "output_type": "stream",
     "text": [
      "Epoch 52999, global step 53000: 'loss' was not in top 1\n"
     ]
    },
    {
     "name": "stdout",
     "output_type": "stream",
     "text": [
      "Epoch 53499:  50%|█████     | 1/2 [00:00<00:00,  2.48it/s, v_num=2loc]\n",
      "Validation: 0it [00:00, ?it/s]\u001b[A\n",
      "Validation:   0%|          | 0/1 [00:00<?, ?it/s]\u001b[A\n",
      "Validation DataLoader 0:   0%|          | 0/1 [00:00<?, ?it/s]\u001b[A\n",
      "Epoch 53499: 100%|██████████| 2/2 [00:13<00:00,  6.53s/it, v_num=2loc]s]\u001b[A\n",
      "                                                                        \u001b[A"
     ]
    },
    {
     "name": "stderr",
     "output_type": "stream",
     "text": [
      "Epoch 53499, global step 53500: 'loss' was not in top 1\n"
     ]
    },
    {
     "name": "stdout",
     "output_type": "stream",
     "text": [
      "Epoch 53999:  50%|█████     | 1/2 [00:00<00:00,  2.36it/s, v_num=2loc]\n",
      "Validation: 0it [00:00, ?it/s]\u001b[A\n",
      "Validation:   0%|          | 0/1 [00:00<?, ?it/s]\u001b[A\n",
      "Validation DataLoader 0:   0%|          | 0/1 [00:00<?, ?it/s]\u001b[A\n",
      "Epoch 53999: 100%|██████████| 2/2 [00:13<00:00,  6.57s/it, v_num=2loc]s]\u001b[A\n",
      "                                                                        \u001b[A"
     ]
    },
    {
     "name": "stderr",
     "output_type": "stream",
     "text": [
      "Epoch 53999, global step 54000: 'loss' was not in top 1\n"
     ]
    },
    {
     "name": "stdout",
     "output_type": "stream",
     "text": [
      "Epoch 54499:  50%|█████     | 1/2 [00:00<00:00,  2.47it/s, v_num=2loc]\n",
      "Validation: 0it [00:00, ?it/s]\u001b[A\n",
      "Validation:   0%|          | 0/1 [00:00<?, ?it/s]\u001b[A\n",
      "Validation DataLoader 0:   0%|          | 0/1 [00:00<?, ?it/s]\u001b[A\n",
      "Epoch 54499: 100%|██████████| 2/2 [00:13<00:00,  6.55s/it, v_num=2loc]s]\u001b[A\n",
      "                                                                        \u001b[A"
     ]
    },
    {
     "name": "stderr",
     "output_type": "stream",
     "text": [
      "Epoch 54499, global step 54500: 'loss' was not in top 1\n"
     ]
    },
    {
     "name": "stdout",
     "output_type": "stream",
     "text": [
      "Epoch 54999:  50%|█████     | 1/2 [00:00<00:00,  2.48it/s, v_num=2loc]\n",
      "Validation: 0it [00:00, ?it/s]\u001b[A\n",
      "Validation:   0%|          | 0/1 [00:00<?, ?it/s]\u001b[A\n",
      "Validation DataLoader 0:   0%|          | 0/1 [00:00<?, ?it/s]\u001b[A\n",
      "Epoch 54999: 100%|██████████| 2/2 [00:12<00:00,  6.48s/it, v_num=2loc]s]\u001b[A\n",
      "                                                                        \u001b[A"
     ]
    },
    {
     "name": "stderr",
     "output_type": "stream",
     "text": [
      "Epoch 54999, global step 55000: 'loss' was not in top 1\n"
     ]
    },
    {
     "name": "stdout",
     "output_type": "stream",
     "text": [
      "Epoch 55499:  50%|█████     | 1/2 [00:00<00:00,  2.45it/s, v_num=2loc]\n",
      "Validation: 0it [00:00, ?it/s]\u001b[A\n",
      "Validation:   0%|          | 0/1 [00:00<?, ?it/s]\u001b[A\n",
      "Validation DataLoader 0:   0%|          | 0/1 [00:00<?, ?it/s]\u001b[A\n",
      "Epoch 55499: 100%|██████████| 2/2 [00:13<00:00,  6.53s/it, v_num=2loc]s]\u001b[A\n",
      "                                                                        \u001b[A"
     ]
    },
    {
     "name": "stderr",
     "output_type": "stream",
     "text": [
      "Epoch 55499, global step 55500: 'loss' was not in top 1\n"
     ]
    },
    {
     "name": "stdout",
     "output_type": "stream",
     "text": [
      "Epoch 55999:  50%|█████     | 1/2 [00:00<00:00,  2.36it/s, v_num=2loc]\n",
      "Validation: 0it [00:00, ?it/s]\u001b[A\n",
      "Validation:   0%|          | 0/1 [00:00<?, ?it/s]\u001b[A\n",
      "Validation DataLoader 0:   0%|          | 0/1 [00:00<?, ?it/s]\u001b[A\n",
      "Epoch 55999: 100%|██████████| 2/2 [00:13<00:00,  6.55s/it, v_num=2loc]s]\u001b[A\n",
      "                                                                        \u001b[A"
     ]
    },
    {
     "name": "stderr",
     "output_type": "stream",
     "text": [
      "Epoch 55999, global step 56000: 'loss' was not in top 1\n"
     ]
    },
    {
     "name": "stdout",
     "output_type": "stream",
     "text": [
      "Epoch 56499:  50%|█████     | 1/2 [00:00<00:00,  2.46it/s, v_num=2loc]\n",
      "Validation: 0it [00:00, ?it/s]\u001b[A\n",
      "Validation:   0%|          | 0/1 [00:00<?, ?it/s]\u001b[A\n",
      "Validation DataLoader 0:   0%|          | 0/1 [00:00<?, ?it/s]\u001b[A\n",
      "Epoch 56499: 100%|██████████| 2/2 [00:13<00:00,  6.53s/it, v_num=2loc]s]\u001b[A\n",
      "                                                                        \u001b[A"
     ]
    },
    {
     "name": "stderr",
     "output_type": "stream",
     "text": [
      "Epoch 56499, global step 56500: 'loss' was not in top 1\n"
     ]
    },
    {
     "name": "stdout",
     "output_type": "stream",
     "text": [
      "Epoch 56999:  50%|█████     | 1/2 [00:00<00:00,  2.37it/s, v_num=2loc]\n",
      "Validation: 0it [00:00, ?it/s]\u001b[A\n",
      "Validation:   0%|          | 0/1 [00:00<?, ?it/s]\u001b[A\n",
      "Validation DataLoader 0:   0%|          | 0/1 [00:00<?, ?it/s]\u001b[A\n",
      "Epoch 56999: 100%|██████████| 2/2 [00:13<00:00,  6.57s/it, v_num=2loc]]\u001b[A\n",
      "                                                                       \u001b[A"
     ]
    },
    {
     "name": "stderr",
     "output_type": "stream",
     "text": [
      "Epoch 56999, global step 57000: 'loss' was not in top 1\n"
     ]
    },
    {
     "name": "stdout",
     "output_type": "stream",
     "text": [
      "Epoch 57499:  50%|█████     | 1/2 [00:00<00:00,  2.47it/s, v_num=2loc]\n",
      "Validation: 0it [00:00, ?it/s]\u001b[A\n",
      "Validation:   0%|          | 0/1 [00:00<?, ?it/s]\u001b[A\n",
      "Validation DataLoader 0:   0%|          | 0/1 [00:00<?, ?it/s]\u001b[A\n",
      "Epoch 57499: 100%|██████████| 2/2 [00:13<00:00,  6.63s/it, v_num=2loc]]\u001b[A\n",
      "                                                                       \u001b[A"
     ]
    },
    {
     "name": "stderr",
     "output_type": "stream",
     "text": [
      "Epoch 57499, global step 57500: 'loss' was not in top 1\n"
     ]
    },
    {
     "name": "stdout",
     "output_type": "stream",
     "text": [
      "Epoch 57999:  50%|█████     | 1/2 [00:00<00:00,  2.47it/s, v_num=2loc]\n",
      "Validation: 0it [00:00, ?it/s]\u001b[A\n",
      "Validation:   0%|          | 0/1 [00:00<?, ?it/s]\u001b[A\n",
      "Validation DataLoader 0:   0%|          | 0/1 [00:00<?, ?it/s]\u001b[A\n",
      "Epoch 57999: 100%|██████████| 2/2 [00:12<00:00,  6.47s/it, v_num=2loc]s]\u001b[A\n",
      "                                                                        \u001b[A"
     ]
    },
    {
     "name": "stderr",
     "output_type": "stream",
     "text": [
      "Epoch 57999, global step 58000: 'loss' was not in top 1\n"
     ]
    },
    {
     "name": "stdout",
     "output_type": "stream",
     "text": [
      "Epoch 58499:  50%|█████     | 1/2 [00:00<00:00,  2.48it/s, v_num=2loc]\n",
      "Validation: 0it [00:00, ?it/s]\u001b[A\n",
      "Validation:   0%|          | 0/1 [00:00<?, ?it/s]\u001b[A\n",
      "Validation DataLoader 0:   0%|          | 0/1 [00:00<?, ?it/s]\u001b[A\n",
      "Epoch 58499: 100%|██████████| 2/2 [00:12<00:00,  6.46s/it, v_num=2loc]s]\u001b[A\n",
      "                                                                        \u001b[A"
     ]
    },
    {
     "name": "stderr",
     "output_type": "stream",
     "text": [
      "Epoch 58499, global step 58500: 'loss' was not in top 1\n"
     ]
    },
    {
     "name": "stdout",
     "output_type": "stream",
     "text": [
      "Epoch 58999:  50%|█████     | 1/2 [00:00<00:00,  2.47it/s, v_num=2loc]\n",
      "Validation: 0it [00:00, ?it/s]\u001b[A\n",
      "Validation:   0%|          | 0/1 [00:00<?, ?it/s]\u001b[A\n",
      "Validation DataLoader 0:   0%|          | 0/1 [00:00<?, ?it/s]\u001b[A\n",
      "Epoch 58999: 100%|██████████| 2/2 [00:12<00:00,  6.50s/it, v_num=2loc]]\u001b[A\n",
      "                                                                       \u001b[A"
     ]
    },
    {
     "name": "stderr",
     "output_type": "stream",
     "text": [
      "Epoch 58999, global step 59000: 'loss' was not in top 1\n"
     ]
    },
    {
     "name": "stdout",
     "output_type": "stream",
     "text": [
      "Epoch 59499:  50%|█████     | 1/2 [00:00<00:00,  2.47it/s, v_num=2loc]\n",
      "Validation: 0it [00:00, ?it/s]\u001b[A\n",
      "Validation:   0%|          | 0/1 [00:00<?, ?it/s]\u001b[A\n",
      "Validation DataLoader 0:   0%|          | 0/1 [00:00<?, ?it/s]\u001b[A\n",
      "Epoch 59499: 100%|██████████| 2/2 [00:13<00:00,  6.51s/it, v_num=2loc]s]\u001b[A\n",
      "                                                                        \u001b[A"
     ]
    },
    {
     "name": "stderr",
     "output_type": "stream",
     "text": [
      "Epoch 59499, global step 59500: 'loss' was not in top 1\n"
     ]
    },
    {
     "name": "stdout",
     "output_type": "stream",
     "text": [
      "Epoch 59999:  50%|█████     | 1/2 [00:00<00:00,  2.47it/s, v_num=2loc]\n",
      "Validation: 0it [00:00, ?it/s]\u001b[A\n",
      "Validation:   0%|          | 0/1 [00:00<?, ?it/s]\u001b[A\n",
      "Validation DataLoader 0:   0%|          | 0/1 [00:00<?, ?it/s]\u001b[A\n",
      "Epoch 59999: 100%|██████████| 2/2 [00:13<00:00,  6.50s/it, v_num=2loc]s]\u001b[A\n",
      "                                                                        \u001b[A"
     ]
    },
    {
     "name": "stderr",
     "output_type": "stream",
     "text": [
      "Epoch 59999, global step 60000: 'loss' was not in top 1\n"
     ]
    },
    {
     "name": "stdout",
     "output_type": "stream",
     "text": [
      "Epoch 60499:  50%|█████     | 1/2 [00:00<00:00,  2.47it/s, v_num=2loc]\n",
      "Validation: 0it [00:00, ?it/s]\u001b[A\n",
      "Validation:   0%|          | 0/1 [00:00<?, ?it/s]\u001b[A\n",
      "Validation DataLoader 0:   0%|          | 0/1 [00:00<?, ?it/s]\u001b[A\n",
      "Epoch 60499: 100%|██████████| 2/2 [00:12<00:00,  6.47s/it, v_num=2loc]]\u001b[A\n",
      "                                                                       \u001b[A"
     ]
    },
    {
     "name": "stderr",
     "output_type": "stream",
     "text": [
      "Epoch 60499, global step 60500: 'loss' was not in top 1\n"
     ]
    },
    {
     "name": "stdout",
     "output_type": "stream",
     "text": [
      "Epoch 60999:  50%|█████     | 1/2 [00:00<00:00,  2.48it/s, v_num=2loc]\n",
      "Validation: 0it [00:00, ?it/s]\u001b[A\n",
      "Validation:   0%|          | 0/1 [00:00<?, ?it/s]\u001b[A\n",
      "Validation DataLoader 0:   0%|          | 0/1 [00:00<?, ?it/s]\u001b[A\n",
      "Epoch 60999: 100%|██████████| 2/2 [00:12<00:00,  6.49s/it, v_num=2loc]s]\u001b[A\n",
      "                                                                        \u001b[A"
     ]
    },
    {
     "name": "stderr",
     "output_type": "stream",
     "text": [
      "Epoch 60999, global step 61000: 'loss' was not in top 1\n"
     ]
    },
    {
     "name": "stdout",
     "output_type": "stream",
     "text": [
      "Epoch 61499:  50%|█████     | 1/2 [00:00<00:00,  2.36it/s, v_num=2loc]\n",
      "Validation: 0it [00:00, ?it/s]\u001b[A\n",
      "Validation:   0%|          | 0/1 [00:00<?, ?it/s]\u001b[A\n",
      "Validation DataLoader 0:   0%|          | 0/1 [00:00<?, ?it/s]\u001b[A\n",
      "Epoch 61499: 100%|██████████| 2/2 [00:13<00:00,  6.61s/it, v_num=2loc]s]\u001b[A\n",
      "                                                                        \u001b[A"
     ]
    },
    {
     "name": "stderr",
     "output_type": "stream",
     "text": [
      "Epoch 61499, global step 61500: 'loss' was not in top 1\n"
     ]
    },
    {
     "name": "stdout",
     "output_type": "stream",
     "text": [
      "Epoch 61999:  50%|█████     | 1/2 [00:00<00:00,  2.47it/s, v_num=2loc]\n",
      "Validation: 0it [00:00, ?it/s]\u001b[A\n",
      "Validation:   0%|          | 0/1 [00:00<?, ?it/s]\u001b[A\n",
      "Validation DataLoader 0:   0%|          | 0/1 [00:00<?, ?it/s]\u001b[A\n",
      "Epoch 61999: 100%|██████████| 2/2 [00:13<00:00,  6.50s/it, v_num=2loc]]\u001b[A\n",
      "                                                                       \u001b[A"
     ]
    },
    {
     "name": "stderr",
     "output_type": "stream",
     "text": [
      "Epoch 61999, global step 62000: 'loss' was not in top 1\n"
     ]
    },
    {
     "name": "stdout",
     "output_type": "stream",
     "text": [
      "Epoch 62499:  50%|█████     | 1/2 [00:00<00:00,  2.48it/s, v_num=2loc]\n",
      "Validation: 0it [00:00, ?it/s]\u001b[A\n",
      "Validation:   0%|          | 0/1 [00:00<?, ?it/s]\u001b[A\n",
      "Validation DataLoader 0:   0%|          | 0/1 [00:00<?, ?it/s]\u001b[A\n",
      "Epoch 62499: 100%|██████████| 2/2 [00:13<00:00,  6.65s/it, v_num=2loc]]\u001b[A\n",
      "                                                                       \u001b[A"
     ]
    },
    {
     "name": "stderr",
     "output_type": "stream",
     "text": [
      "Epoch 62499, global step 62500: 'loss' was not in top 1\n"
     ]
    },
    {
     "name": "stdout",
     "output_type": "stream",
     "text": [
      "Epoch 62999:  50%|█████     | 1/2 [00:00<00:00,  2.36it/s, v_num=2loc]\n",
      "Validation: 0it [00:00, ?it/s]\u001b[A\n",
      "Validation:   0%|          | 0/1 [00:00<?, ?it/s]\u001b[A\n",
      "Validation DataLoader 0:   0%|          | 0/1 [00:00<?, ?it/s]\u001b[A\n",
      "Epoch 62999: 100%|██████████| 2/2 [00:13<00:00,  6.53s/it, v_num=2loc]]\u001b[A\n",
      "                                                                       \u001b[A"
     ]
    },
    {
     "name": "stderr",
     "output_type": "stream",
     "text": [
      "Epoch 62999, global step 63000: 'loss' was not in top 1\n"
     ]
    },
    {
     "name": "stdout",
     "output_type": "stream",
     "text": [
      "Epoch 63499:  50%|█████     | 1/2 [00:00<00:00,  2.47it/s, v_num=2loc]\n",
      "Validation: 0it [00:00, ?it/s]\u001b[A\n",
      "Validation:   0%|          | 0/1 [00:00<?, ?it/s]\u001b[A\n",
      "Validation DataLoader 0:   0%|          | 0/1 [00:00<?, ?it/s]\u001b[A\n",
      "Epoch 63499: 100%|██████████| 2/2 [00:13<00:00,  6.63s/it, v_num=2loc]s]\u001b[A\n",
      "                                                                        \u001b[A"
     ]
    },
    {
     "name": "stderr",
     "output_type": "stream",
     "text": [
      "Epoch 63499, global step 63500: 'loss' was not in top 1\n"
     ]
    },
    {
     "name": "stdout",
     "output_type": "stream",
     "text": [
      "Epoch 63999:  50%|█████     | 1/2 [00:00<00:00,  2.47it/s, v_num=2loc]\n",
      "Validation: 0it [00:00, ?it/s]\u001b[A\n",
      "Validation:   0%|          | 0/1 [00:00<?, ?it/s]\u001b[A\n",
      "Validation DataLoader 0:   0%|          | 0/1 [00:00<?, ?it/s]\u001b[A\n",
      "Epoch 63999: 100%|██████████| 2/2 [00:12<00:00,  6.48s/it, v_num=2loc]s]\u001b[A\n",
      "                                                                        \u001b[A"
     ]
    },
    {
     "name": "stderr",
     "output_type": "stream",
     "text": [
      "Epoch 63999, global step 64000: 'loss' was not in top 1\n"
     ]
    },
    {
     "name": "stdout",
     "output_type": "stream",
     "text": [
      "Epoch 64499:  50%|█████     | 1/2 [00:00<00:00,  2.45it/s, v_num=2loc]\n",
      "Validation: 0it [00:00, ?it/s]\u001b[A\n",
      "Validation:   0%|          | 0/1 [00:00<?, ?it/s]\u001b[A\n",
      "Validation DataLoader 0:   0%|          | 0/1 [00:00<?, ?it/s]\u001b[A\n",
      "Epoch 64499: 100%|██████████| 2/2 [00:13<00:00,  6.63s/it, v_num=2loc]s]\u001b[A\n",
      "                                                                        \u001b[A"
     ]
    },
    {
     "name": "stderr",
     "output_type": "stream",
     "text": [
      "Epoch 64499, global step 64500: 'loss' was not in top 1\n"
     ]
    },
    {
     "name": "stdout",
     "output_type": "stream",
     "text": [
      "Epoch 64999:  50%|█████     | 1/2 [00:00<00:00,  2.45it/s, v_num=2loc]\n",
      "Validation: 0it [00:00, ?it/s]\u001b[A\n",
      "Validation:   0%|          | 0/1 [00:00<?, ?it/s]\u001b[A\n",
      "Validation DataLoader 0:   0%|          | 0/1 [00:00<?, ?it/s]\u001b[A\n",
      "Epoch 64999: 100%|██████████| 2/2 [00:13<00:00,  6.50s/it, v_num=2loc]s]\u001b[A\n",
      "                                                                        \u001b[A"
     ]
    },
    {
     "name": "stderr",
     "output_type": "stream",
     "text": [
      "Epoch 64999, global step 65000: 'loss' was not in top 1\n"
     ]
    },
    {
     "name": "stdout",
     "output_type": "stream",
     "text": [
      "Epoch 65499:  50%|█████     | 1/2 [00:00<00:00,  2.36it/s, v_num=2loc]\n",
      "Validation: 0it [00:00, ?it/s]\u001b[A\n",
      "Validation:   0%|          | 0/1 [00:00<?, ?it/s]\u001b[A\n",
      "Validation DataLoader 0:   0%|          | 0/1 [00:00<?, ?it/s]\u001b[A\n",
      "Epoch 65499: 100%|██████████| 2/2 [00:13<00:00,  6.64s/it, v_num=2loc]s]\u001b[A\n",
      "                                                                        \u001b[A"
     ]
    },
    {
     "name": "stderr",
     "output_type": "stream",
     "text": [
      "Epoch 65499, global step 65500: 'loss' was not in top 1\n"
     ]
    },
    {
     "name": "stdout",
     "output_type": "stream",
     "text": [
      "Epoch 65999:  50%|█████     | 1/2 [00:00<00:00,  2.46it/s, v_num=2loc]\n",
      "Validation: 0it [00:00, ?it/s]\u001b[A\n",
      "Validation:   0%|          | 0/1 [00:00<?, ?it/s]\u001b[A\n",
      "Validation DataLoader 0:   0%|          | 0/1 [00:00<?, ?it/s]\u001b[A\n",
      "Epoch 65999: 100%|██████████| 2/2 [00:12<00:00,  6.49s/it, v_num=2loc]]\u001b[A\n",
      "                                                                       \u001b[A"
     ]
    },
    {
     "name": "stderr",
     "output_type": "stream",
     "text": [
      "Epoch 65999, global step 66000: 'loss' reached 0.05874 (best 0.05874), saving model to './graph_diffusion_perceptron/bc5c2loc/checkpoints/epoch=65999-step=66000.ckpt' as top 1\n"
     ]
    },
    {
     "name": "stdout",
     "output_type": "stream",
     "text": [
      "Epoch 66499:  50%|█████     | 1/2 [00:00<00:00,  2.47it/s, v_num=2loc]\n",
      "Validation: 0it [00:00, ?it/s]\u001b[A\n",
      "Validation:   0%|          | 0/1 [00:00<?, ?it/s]\u001b[A\n",
      "Validation DataLoader 0:   0%|          | 0/1 [00:00<?, ?it/s]\u001b[A\n",
      "Epoch 66499: 100%|██████████| 2/2 [00:13<00:00,  6.70s/it, v_num=2loc]s]\u001b[A\n",
      "                                                                        \u001b[A"
     ]
    },
    {
     "name": "stderr",
     "output_type": "stream",
     "text": [
      "Epoch 66499, global step 66500: 'loss' was not in top 1\n"
     ]
    },
    {
     "name": "stdout",
     "output_type": "stream",
     "text": [
      "Epoch 66999:  50%|█████     | 1/2 [00:00<00:00,  2.47it/s, v_num=2loc]\n",
      "Validation: 0it [00:00, ?it/s]\u001b[A\n",
      "Validation:   0%|          | 0/1 [00:00<?, ?it/s]\u001b[A\n",
      "Validation DataLoader 0:   0%|          | 0/1 [00:00<?, ?it/s]\u001b[A\n",
      "Epoch 66999: 100%|██████████| 2/2 [00:12<00:00,  6.50s/it, v_num=2loc]s]\u001b[A\n",
      "                                                                        \u001b[A"
     ]
    },
    {
     "name": "stderr",
     "output_type": "stream",
     "text": [
      "Epoch 66999, global step 67000: 'loss' was not in top 1\n"
     ]
    },
    {
     "name": "stdout",
     "output_type": "stream",
     "text": [
      "Epoch 67499:  50%|█████     | 1/2 [00:00<00:00,  2.47it/s, v_num=2loc]\n",
      "Validation: 0it [00:00, ?it/s]\u001b[A\n",
      "Validation:   0%|          | 0/1 [00:00<?, ?it/s]\u001b[A\n",
      "Validation DataLoader 0:   0%|          | 0/1 [00:00<?, ?it/s]\u001b[A\n",
      "Epoch 67499: 100%|██████████| 2/2 [00:12<00:00,  6.49s/it, v_num=2loc]]\u001b[A\n",
      "                                                                       \u001b[A"
     ]
    },
    {
     "name": "stderr",
     "output_type": "stream",
     "text": [
      "Epoch 67499, global step 67500: 'loss' was not in top 1\n"
     ]
    },
    {
     "name": "stdout",
     "output_type": "stream",
     "text": [
      "Epoch 67999:  50%|█████     | 1/2 [00:00<00:00,  2.36it/s, v_num=2loc]\n",
      "Validation: 0it [00:00, ?it/s]\u001b[A\n",
      "Validation:   0%|          | 0/1 [00:00<?, ?it/s]\u001b[A\n",
      "Validation DataLoader 0:   0%|          | 0/1 [00:00<?, ?it/s]\u001b[A\n",
      "Epoch 67999: 100%|██████████| 2/2 [00:12<00:00,  6.49s/it, v_num=2loc]s]\u001b[A\n",
      "                                                                        \u001b[A"
     ]
    },
    {
     "name": "stderr",
     "output_type": "stream",
     "text": [
      "Epoch 67999, global step 68000: 'loss' was not in top 1\n"
     ]
    },
    {
     "name": "stdout",
     "output_type": "stream",
     "text": [
      "Epoch 68499:  50%|█████     | 1/2 [00:00<00:00,  2.45it/s, v_num=2loc]\n",
      "Validation: 0it [00:00, ?it/s]\u001b[A\n",
      "Validation:   0%|          | 0/1 [00:00<?, ?it/s]\u001b[A\n",
      "Validation DataLoader 0:   0%|          | 0/1 [00:00<?, ?it/s]\u001b[A\n",
      "Epoch 68499: 100%|██████████| 2/2 [00:13<00:00,  6.51s/it, v_num=2loc]s]\u001b[A\n",
      "                                                                        \u001b[A"
     ]
    },
    {
     "name": "stderr",
     "output_type": "stream",
     "text": [
      "Epoch 68499, global step 68500: 'loss' was not in top 1\n"
     ]
    },
    {
     "name": "stdout",
     "output_type": "stream",
     "text": [
      "Epoch 68607:   0%|          | 0/1 [00:00<?, ?it/s, v_num=2loc]        "
     ]
    }
   ],
   "source": [
    "# import os\n",
    "# from itertools import product\n",
    "# import random\n",
    "\n",
    "# os.environ[\"CUDA_VISIBLE_DEVICES\"]=\"0\"\n",
    "# os.environ[\"WANDB_MODE\"]=\"online\"\n",
    "# # datasetname='community_12_21_100'\n",
    "# # datasetname='planar_36_120'\n",
    "# datasetname='sbm_200'\n",
    "\n",
    "# ks = [10,30,60]\n",
    "# layers = [6,9,12]\n",
    "# latent_dims = [128,256]\n",
    "\n",
    "# k=33\n",
    "# s_layer = 9\n",
    "# s_dim = 128\n",
    "\n",
    "\n",
    "\n",
    "# params = list(product(ks,layers,latent_dims))\n",
    "# random.shuffle(params)\n",
    "# params\n",
    "\n",
    "\n",
    "# for k, s_layer, s_dim in params:\n",
    "#     os.system(f'python train.py --dataset={datasetname} --layers={s_layer} --latent_dim={s_dim} --k={k}')"
   ]
  },
  {
   "cell_type": "code",
   "execution_count": null,
   "id": "02001e22",
   "metadata": {},
   "outputs": [
    {
     "name": "stderr",
     "output_type": "stream",
     "text": [
      "wandb: Currently logged in as: l_cosmo. Use `wandb login --relogin` to force relogin\n",
      "wandb: Tracking run with wandb version 0.16.1\n",
      "wandb: Run data is saved locally in ./wandb/run-20231212_170748-m8xel6ck\n",
      "wandb: Run `wandb offline` to turn off syncing.\n",
      "wandb: Syncing run self-cross-hugg_k-30_sm-False_dm-ytcfkbrz\n",
      "wandb: ⭐️ View project at https://wandb.ai/l_cosmo/graph_diffusion_refinement\n",
      "wandb: 🚀 View run at https://wandb.ai/l_cosmo/graph_diffusion_refinement/runs/m8xel6ck\n"
     ]
    },
    {
     "name": "stdout",
     "output_type": "stream",
     "text": [
      "Point dim 30\n",
      "Comp dimensions...\n",
      "Comp stats...\n",
      "Loaded precomuted eigenquantities\n",
      "Comp Samples...\n",
      "Tot #200\n",
      "Point dim 30\n",
      "Comp dimensions...\n",
      "Comp stats...\n",
      "Loaded precomuted eigenquantities\n",
      "Comp Samples...\n",
      "Tot #200\n"
     ]
    },
    {
     "name": "stderr",
     "output_type": "stream",
     "text": [
      "GPU available: True (cuda), used: True\n",
      "TPU available: False, using: 0 TPU cores\n",
      "IPU available: False, using: 0 IPUs\n",
      "HPU available: False, using: 0 HPUs\n",
      "/home/luca.cosmo/anaconda3/envs/graph_diffusion/lib/python3.8/site-packages/pytorch_lightning/loops/utilities.py:89: PossibleUserWarning: `max_epochs` was not set. Setting it to 1000 epochs. To train without an epoch limit, set `max_epochs=-1`.\n",
      "  rank_zero_warn(\n",
      "LOCAL_RANK: 0 - CUDA_VISIBLE_DEVICES: [0]\n",
      "\n",
      "  | Name          | Type              | Params\n",
      "----------------------------------------------------\n",
      "0 | generator     | PPGNGenerator     | 355 K \n",
      "1 | discriminator | PPGNDiscriminator | 27.2 K\n",
      "2 | criterion     | BCEWithLogitsLoss | 0     \n",
      "----------------------------------------------------\n",
      "382 K     Trainable params\n",
      "0         Non-trainable params\n",
      "382 K     Total params\n",
      "1.531     Total estimated model params size (MB)\n",
      "/home/luca.cosmo/anaconda3/envs/graph_diffusion/lib/python3.8/site-packages/pytorch_lightning/trainer/connectors/data_connector.py:489: PossibleUserWarning: Your `val_dataloader`'s sampler has shuffling enabled, it is strongly recommended that you turn shuffling off for val/test/predict dataloaders.\n",
      "  rank_zero_warn(\n",
      "/home/luca.cosmo/anaconda3/envs/graph_diffusion/lib/python3.8/site-packages/pytorch_lightning/trainer/connectors/data_connector.py:236: PossibleUserWarning: The dataloader, val_dataloader 0, does not have many workers which may be a bottleneck. Consider increasing the value of the `num_workers` argument` (try 32 which is the number of cpus on this machine) in the `DataLoader` init to improve performance.\n",
      "  rank_zero_warn(\n",
      "/home/luca.cosmo/anaconda3/envs/graph_diffusion/lib/python3.8/site-packages/pytorch_lightning/trainer/connectors/data_connector.py:236: PossibleUserWarning: The dataloader, train_dataloader, does not have many workers which may be a bottleneck. Consider increasing the value of the `num_workers` argument` (try 32 which is the number of cpus on this machine) in the `DataLoader` init to improve performance.\n",
      "  rank_zero_warn(\n",
      "/home/luca.cosmo/anaconda3/envs/graph_diffusion/lib/python3.8/site-packages/pytorch_lightning/trainer/trainer.py:1892: PossibleUserWarning: The number of training batches (20) is smaller than the logging interval Trainer(log_every_n_steps=160). Set a lower value for log_every_n_steps if you want to see logs for the training epoch.\n",
      "  rank_zero_warn(\n"
     ]
    },
    {
     "name": "stdout",
     "output_type": "stream",
     "text": [
      "Epoch 19:  56%|█████▌    | 20/36 [00:06<00:05,  3.00it/s, v_num=l6ck]        \n",
      "Validation: 0it [00:00, ?it/s]\u001b[A\n",
      "Validation:   0%|          | 0/16 [00:00<?, ?it/s]\u001b[A\n",
      "Validation DataLoader 0:   0%|          | 0/16 [00:00<?, ?it/s]\u001b[A\n",
      "Epoch 19:  58%|█████▊    | 21/36 [00:06<00:04,  3.15it/s, v_num=l6ck]t/s]\u001b[A\n",
      "Epoch 19:  61%|██████    | 22/36 [00:06<00:04,  3.30it/s, v_num=l6ck]/s] \u001b[A\n",
      "Epoch 19:  64%|██████▍   | 23/36 [00:06<00:03,  3.45it/s, v_num=l6ck]/s]\u001b[A\n",
      "Epoch 19:  67%|██████▋   | 24/36 [00:06<00:03,  3.60it/s, v_num=l6ck]/s]\u001b[A\n",
      "Epoch 19:  69%|██████▉   | 25/36 [00:06<00:02,  3.75it/s, v_num=l6ck]/s]\u001b[A\n",
      "Epoch 19:  72%|███████▏  | 26/36 [00:06<00:02,  3.89it/s, v_num=l6ck]/s]\u001b[A\n",
      "Epoch 19:  75%|███████▌  | 27/36 [00:06<00:02,  4.04it/s, v_num=l6ck]/s]\u001b[A\n",
      "Epoch 19:  78%|███████▊  | 28/36 [00:06<00:01,  4.19it/s, v_num=l6ck]/s]\u001b[A\n",
      "Epoch 19:  81%|████████  | 29/36 [00:06<00:01,  4.34it/s, v_num=l6ck]/s]\u001b[A\n",
      "Epoch 19:  83%|████████▎ | 30/36 [00:06<00:01,  4.49it/s, v_num=l6ck]t/s]\u001b[A\n",
      "Epoch 19:  86%|████████▌ | 31/36 [00:06<00:01,  4.64it/s, v_num=l6ck]t/s]\u001b[A\n",
      "Epoch 19:  89%|████████▉ | 32/36 [00:06<00:00,  4.79it/s, v_num=l6ck]it/s]\u001b[A\n",
      "Epoch 19:  92%|█████████▏| 33/36 [00:06<00:00,  4.94it/s, v_num=l6ck]it/s]\u001b[A\n",
      "Epoch 19:  94%|█████████▍| 34/36 [00:06<00:00,  5.09it/s, v_num=l6ck]t/s] \u001b[A\n",
      "Epoch 19:  97%|█████████▋| 35/36 [00:06<00:00,  5.24it/s, v_num=l6ck]t/s]\u001b[A\n",
      "Epoch 19: 100%|██████████| 36/36 [00:06<00:00,  5.38it/s, v_num=l6ck]t/s]\u001b[A"
     ]
    },
    {
     "name": "stderr",
     "output_type": "stream",
     "text": [
      "/home/luca.cosmo/anaconda3/envs/graph_diffusion/lib/python3.8/site-packages/pytorch_lightning/trainer/connectors/logger_connector/result.py:231: UserWarning: You called `self.log('discriminating', ...)` in your `training_epoch_end` but the value needs to be floating point. Converting it to torch.float32.\n",
      "  warning_cache.warn(\n"
     ]
    },
    {
     "name": "stdout",
     "output_type": "stream",
     "text": [
      "\r",
      "Epoch 19: 100%|██████████| 36/36 [00:19<00:00,  1.87it/s, v_num=l6ck]\n",
      "\r",
      "                                                                         \u001b[A\r",
      "Epoch 19: 100%|██████████| 36/36 [00:19<00:00,  1.86it/s, v_num=l6ck]\r",
      "Epoch 19:   0%|          | 0/20 [00:00<?, ?it/s, v_num=l6ck]         \r",
      "Epoch 20:   0%|          | 0/20 [00:00<?, ?it/s, v_num=l6ck]"
     ]
    },
    {
     "name": "stderr",
     "output_type": "stream",
     "text": [
      "Epoch 19, global step 800: 'degree' reached 0.02187 (best 0.02187), saving model to './graph_diffusion_refinement/m8xel6ck/checkpoints/epoch=19-step=800.ckpt' as top 1\n"
     ]
    },
    {
     "name": "stdout",
     "output_type": "stream",
     "text": [
      "Epoch 39:  56%|█████▌    | 20/36 [00:06<00:05,  3.00it/s, v_num=l6ck]\n",
      "Validation: 0it [00:00, ?it/s]\u001b[A\n",
      "Validation:   0%|          | 0/16 [00:00<?, ?it/s]\u001b[A\n",
      "Validation DataLoader 0:   0%|          | 0/16 [00:00<?, ?it/s]\u001b[A\n",
      "Epoch 39:  58%|█████▊    | 21/36 [00:06<00:04,  3.15it/s, v_num=l6ck]t/s]\u001b[A\n",
      "Epoch 39:  61%|██████    | 22/36 [00:06<00:04,  3.29it/s, v_num=l6ck]t/s]\u001b[A\n",
      "Epoch 39:  64%|██████▍   | 23/36 [00:06<00:03,  3.44it/s, v_num=l6ck]t/s]\u001b[A\n",
      "Epoch 39:  67%|██████▋   | 24/36 [00:06<00:03,  3.59it/s, v_num=l6ck]t/s]\u001b[A\n",
      "Epoch 39:  69%|██████▉   | 25/36 [00:06<00:02,  3.74it/s, v_num=l6ck]t/s]\u001b[A\n",
      "Epoch 39:  72%|███████▏  | 26/36 [00:06<00:02,  3.89it/s, v_num=l6ck]t/s]\u001b[A\n",
      "Epoch 39:  75%|███████▌  | 27/36 [00:06<00:02,  4.04it/s, v_num=l6ck]t/s]\u001b[A\n",
      "Epoch 39:  78%|███████▊  | 28/36 [00:06<00:01,  4.19it/s, v_num=l6ck]/s] \u001b[A\n",
      "Epoch 39:  81%|████████  | 29/36 [00:06<00:01,  4.34it/s, v_num=l6ck]/s]\u001b[A\n",
      "Epoch 39:  83%|████████▎ | 30/36 [00:06<00:01,  4.49it/s, v_num=l6ck]t/s]\u001b[A\n",
      "Epoch 39:  86%|████████▌ | 31/36 [00:06<00:01,  4.64it/s, v_num=l6ck]t/s]\u001b[A\n",
      "Epoch 39:  89%|████████▉ | 32/36 [00:06<00:00,  4.78it/s, v_num=l6ck]t/s]\u001b[A\n",
      "Epoch 39:  92%|█████████▏| 33/36 [00:06<00:00,  4.93it/s, v_num=l6ck]t/s]\u001b[A\n",
      "Epoch 39:  94%|█████████▍| 34/36 [00:06<00:00,  5.08it/s, v_num=l6ck]t/s]\u001b[A\n",
      "Epoch 39:  97%|█████████▋| 35/36 [00:06<00:00,  5.23it/s, v_num=l6ck]t/s]\u001b[A\n",
      "Epoch 39: 100%|██████████| 36/36 [00:06<00:00,  5.38it/s, v_num=l6ck]t/s]\u001b[A"
     ]
    },
    {
     "name": "stderr",
     "output_type": "stream",
     "text": [
      "wandb: / 0.341 MB of 0.341 MB uploaded\r"
     ]
    },
    {
     "name": "stdout",
     "output_type": "stream",
     "text": [
      "Point dim 30\n",
      "Comp dimensions...\n",
      "Comp stats...\n",
      "Loaded precomuted eigenquantities\n",
      "Comp Samples...\n",
      "Tot #200\n",
      "Point dim 30\n",
      "Comp dimensions...\n",
      "Comp stats...\n",
      "Loaded precomuted eigenquantities\n",
      "Comp Samples...\n",
      "Tot #200\n",
      "Epoch 19:  56%|█████▌    | 20/36 [00:07<00:06,  2.58it/s, v_num=9he0]        \n",
      "Validation: 0it [00:00, ?it/s]\u001b[A\n",
      "Validation:   0%|          | 0/16 [00:00<?, ?it/s]\u001b[A\n",
      "Validation DataLoader 0:   0%|          | 0/16 [00:00<?, ?it/s]\u001b[A\n",
      "Epoch 19:  58%|█████▊    | 21/36 [00:07<00:05,  2.70it/s, v_num=9he0]t/s]\u001b[A\n",
      "Epoch 19:  61%|██████    | 22/36 [00:07<00:04,  2.83it/s, v_num=9he0]t/s]\u001b[A\n",
      "Epoch 19:  64%|██████▍   | 23/36 [00:07<00:04,  2.96it/s, v_num=9he0]t/s]\u001b[A\n",
      "Epoch 19:  67%|██████▋   | 24/36 [00:07<00:03,  3.09it/s, v_num=9he0]t/s]\u001b[A\n",
      "Epoch 19:  69%|██████▉   | 25/36 [00:07<00:03,  3.22it/s, v_num=9he0]t/s]\u001b[A\n",
      "Epoch 19:  72%|███████▏  | 26/36 [00:07<00:02,  3.35it/s, v_num=9he0]t/s]\u001b[A\n",
      "Epoch 19:  75%|███████▌  | 27/36 [00:07<00:02,  3.47it/s, v_num=9he0]t/s]\u001b[A\n",
      "Epoch 19:  78%|███████▊  | 28/36 [00:07<00:02,  3.60it/s, v_num=9he0]t/s]\u001b[A\n",
      "Epoch 19:  81%|████████  | 29/36 [00:07<00:01,  3.73it/s, v_num=9he0]t/s]\u001b[A\n",
      "Epoch 19:  83%|████████▎ | 30/36 [00:07<00:01,  3.86it/s, v_num=9he0]it/s]\u001b[A\n",
      "Epoch 19:  86%|████████▌ | 31/36 [00:07<00:01,  3.99it/s, v_num=9he0]it/s]\u001b[A\n",
      "Epoch 19:  89%|████████▉ | 32/36 [00:07<00:00,  4.11it/s, v_num=9he0]it/s]\u001b[A\n",
      "Epoch 19:  92%|█████████▏| 33/36 [00:07<00:00,  4.24it/s, v_num=9he0]it/s]\u001b[A\n",
      "Epoch 19:  94%|█████████▍| 34/36 [00:07<00:00,  4.37it/s, v_num=9he0]it/s]\u001b[A\n",
      "Epoch 19:  97%|█████████▋| 35/36 [00:07<00:00,  4.50it/s, v_num=9he0]it/s]\u001b[A\n",
      "Epoch 19: 100%|██████████| 36/36 [00:19<00:00,  1.84it/s, v_num=9he0]it/s]\u001b[A\n",
      "Epoch 39:  56%|█████▌    | 20/36 [00:06<00:05,  2.99it/s, v_num=9he0]     \u001b[A\n",
      "Validation: 0it [00:00, ?it/s]\u001b[A\n",
      "Validation:   0%|          | 0/16 [00:00<?, ?it/s]\u001b[A\n",
      "Validation DataLoader 0:   0%|          | 0/16 [00:00<?, ?it/s]\u001b[A\n",
      "Epoch 39:  58%|█████▊    | 21/36 [00:06<00:04,  3.14it/s, v_num=9he0]t/s]\u001b[A\n",
      "Epoch 39:  61%|██████    | 22/36 [00:06<00:04,  3.29it/s, v_num=9he0]t/s]\u001b[A\n",
      "Epoch 39:  64%|██████▍   | 23/36 [00:06<00:03,  3.44it/s, v_num=9he0]t/s]\u001b[A\n",
      "Epoch 39:  67%|██████▋   | 24/36 [00:06<00:03,  3.59it/s, v_num=9he0]t/s]\u001b[A\n",
      "Epoch 39:  69%|██████▉   | 25/36 [00:06<00:02,  3.74it/s, v_num=9he0]t/s]\u001b[A\n",
      "Epoch 39:  72%|███████▏  | 26/36 [00:06<00:02,  3.89it/s, v_num=9he0]t/s]\u001b[A\n",
      "Epoch 39:  75%|███████▌  | 27/36 [00:06<00:02,  4.03it/s, v_num=9he0]t/s]\u001b[A\n",
      "Epoch 39:  78%|███████▊  | 28/36 [00:06<00:01,  4.18it/s, v_num=9he0]t/s]\u001b[A\n",
      "Epoch 39:  81%|████████  | 29/36 [00:06<00:01,  4.33it/s, v_num=9he0]t/s]\u001b[A\n",
      "Epoch 39:  83%|████████▎ | 30/36 [00:06<00:01,  4.48it/s, v_num=9he0]it/s]\u001b[A\n",
      "Epoch 39:  86%|████████▌ | 31/36 [00:06<00:01,  4.63it/s, v_num=9he0]it/s]\u001b[A\n",
      "Epoch 39:  89%|████████▉ | 32/36 [00:06<00:00,  4.78it/s, v_num=9he0]it/s]\u001b[A\n",
      "Epoch 39:  92%|█████████▏| 33/36 [00:06<00:00,  4.93it/s, v_num=9he0]it/s]\u001b[A\n",
      "Epoch 39:  94%|█████████▍| 34/36 [00:06<00:00,  5.08it/s, v_num=9he0]it/s]\u001b[A\n",
      "Epoch 39:  97%|█████████▋| 35/36 [00:06<00:00,  5.22it/s, v_num=9he0]it/s]\u001b[A\n",
      "Epoch 39: 100%|██████████| 36/36 [00:06<00:00,  5.37it/s, v_num=9he0]it/s]\u001b[APoint dim 40\n",
      "Comp dimensions...\n",
      "Comp stats...\n",
      "Loaded precomuted eigenquantities\n",
      "Comp Samples...\n",
      "Tot #200\n",
      "Point dim 40\n",
      "Comp dimensions...\n",
      "Comp stats...\n",
      "Loaded precomuted eigenquantities\n",
      "Comp Samples...\n",
      "Tot #200\n",
      "Epoch 19:  56%|█████▌    | 20/36 [00:06<00:05,  3.16it/s, v_num=xmkx]        \n",
      "Validation: 0it [00:00, ?it/s]\u001b[A\n",
      "Validation:   0%|          | 0/16 [00:00<?, ?it/s]\u001b[A\n",
      "Validation DataLoader 0:   0%|          | 0/16 [00:00<?, ?it/s]\u001b[A\n",
      "Epoch 19:  58%|█████▊    | 21/36 [00:06<00:04,  3.32it/s, v_num=xmkx]t/s]\u001b[A\n",
      "Epoch 19:  61%|██████    | 22/36 [00:06<00:04,  3.47it/s, v_num=xmkx]/s] \u001b[A\n",
      "Epoch 19:  64%|██████▍   | 23/36 [00:06<00:03,  3.63it/s, v_num=xmkx]/s]\u001b[A\n",
      "Epoch 19:  67%|██████▋   | 24/36 [00:06<00:03,  3.78it/s, v_num=xmkx]/s]\u001b[A\n",
      "Epoch 19:  69%|██████▉   | 25/36 [00:06<00:02,  3.94it/s, v_num=xmkx]/s]\u001b[A\n",
      "Epoch 19:  72%|███████▏  | 26/36 [00:06<00:02,  4.09it/s, v_num=xmkx]/s]\u001b[A\n",
      "Epoch 19:  75%|███████▌  | 27/36 [00:06<00:02,  4.25it/s, v_num=xmkx]/s]\u001b[A\n",
      "Epoch 19:  78%|███████▊  | 28/36 [00:06<00:01,  4.40it/s, v_num=xmkx]/s]\u001b[A\n",
      "Epoch 19:  81%|████████  | 29/36 [00:06<00:01,  4.56it/s, v_num=xmkx]/s]\u001b[A\n",
      "Epoch 19:  83%|████████▎ | 30/36 [00:06<00:01,  4.71it/s, v_num=xmkx]t/s]\u001b[A\n",
      "Epoch 19:  86%|████████▌ | 31/36 [00:06<00:01,  4.86it/s, v_num=xmkx]t/s]\u001b[A\n",
      "Epoch 19:  89%|████████▉ | 32/36 [00:06<00:00,  5.02it/s, v_num=xmkx]t/s]\u001b[A\n",
      "Epoch 19:  92%|█████████▏| 33/36 [00:06<00:00,  5.17it/s, v_num=xmkx]t/s]\u001b[A\n",
      "Epoch 19:  94%|█████████▍| 34/36 [00:06<00:00,  5.33it/s, v_num=xmkx]t/s]\u001b[A\n",
      "Epoch 19:  97%|█████████▋| 35/36 [00:06<00:00,  5.48it/s, v_num=xmkx]t/s]\u001b[A\n",
      "Epoch 19: 100%|██████████| 36/36 [00:33<00:00,  1.07it/s, v_num=xmkx]t/s]\u001b[A\n",
      "Epoch 39:  56%|█████▌    | 20/36 [00:06<00:05,  3.17it/s, v_num=xmkx]    \u001b[A\n",
      "Validation: 0it [00:00, ?it/s]\u001b[A\n",
      "Validation:   0%|          | 0/16 [00:00<?, ?it/s]\u001b[A\n",
      "Validation DataLoader 0:   0%|          | 0/16 [00:00<?, ?it/s]\u001b[A\n",
      "Epoch 39:  58%|█████▊    | 21/36 [00:06<00:04,  3.33it/s, v_num=xmkx]t/s]\u001b[A\n",
      "Epoch 39:  61%|██████    | 22/36 [00:06<00:04,  3.49it/s, v_num=xmkx]t/s]\u001b[A\n",
      "Epoch 39:  64%|██████▍   | 23/36 [00:06<00:03,  3.64it/s, v_num=xmkx]t/s]\u001b[A\n",
      "Epoch 39:  67%|██████▋   | 24/36 [00:06<00:03,  3.80it/s, v_num=xmkx]t/s]\u001b[A\n",
      "Epoch 39:  69%|██████▉   | 25/36 [00:06<00:02,  3.96it/s, v_num=xmkx]t/s]\u001b[A\n",
      "Epoch 39:  72%|███████▏  | 26/36 [00:06<00:02,  4.12it/s, v_num=xmkx]t/s]\u001b[A\n",
      "Epoch 39:  75%|███████▌  | 27/36 [00:06<00:02,  4.28it/s, v_num=xmkx]t/s]\u001b[A\n",
      "Epoch 39:  78%|███████▊  | 28/36 [00:06<00:01,  4.43it/s, v_num=xmkx]t/s]\u001b[A\n",
      "Epoch 39:  81%|████████  | 29/36 [00:06<00:01,  4.59it/s, v_num=xmkx]t/s]\u001b[A\n",
      "Epoch 39:  83%|████████▎ | 30/36 [00:06<00:01,  4.75it/s, v_num=xmkx]it/s]\u001b[A\n",
      "Epoch 39:  86%|████████▌ | 31/36 [00:06<00:01,  4.91it/s, v_num=xmkx]it/s]\u001b[A\n",
      "Epoch 39:  89%|████████▉ | 32/36 [00:06<00:00,  5.06it/s, v_num=xmkx]it/s]\u001b[A\n",
      "Epoch 39:  92%|█████████▏| 33/36 [00:06<00:00,  5.22it/s, v_num=xmkx]it/s]\u001b[A\n",
      "Epoch 39:  94%|█████████▍| 34/36 [00:06<00:00,  5.38it/s, v_num=xmkx]it/s]\u001b[A\n",
      "Epoch 39:  97%|█████████▋| 35/36 [00:06<00:00,  5.54it/s, v_num=xmkx]it/s]\u001b[A\n",
      "Epoch 39: 100%|██████████| 36/36 [00:06<00:00,  5.69it/s, v_num=xmkx]it/s]\u001b[APoint dim 30\n",
      "Comp dimensions...\n",
      "Comp stats...\n",
      "Loaded precomuted eigenquantities\n",
      "Comp Samples...\n",
      "Tot #200\n",
      "Point dim 30\n",
      "Comp dimensions...\n",
      "Comp stats...\n",
      "Loaded precomuted eigenquantities\n",
      "Comp Samples...\n",
      "Tot #200\n",
      "Epoch 3:  35%|███▌      | 7/20 [00:02<00:04,  2.77it/s, v_num=uga0]          "
     ]
    }
   ],
   "source": [
    "import os\n",
    "from itertools import product\n",
    "import random\n",
    "\n",
    "os.environ[\"CUDA_VISIBLE_DEVICES\"]=\"0\"\n",
    "os.environ[\"WANDB_MODE\"]=\"online\"\n",
    "\n",
    "diffusion_models = ['ytcfkbrz','2shqiia7']\n",
    "rec_weights = [1e-1, 5e-1]\n",
    "# # GAN arguments\n",
    "# parser.add_argument('--generator_layers', type=int, default=8)\n",
    "# parser.add_argument('--generator_data_channels', type=int, default=32)\n",
    "# parser.add_argument('--discriminator_layers', type=int, default=64)\n",
    "# parser.add_argument('--discriminator_data_channels', type=int, default=32)\n",
    "# parser.add_argument('--rec_weight', type=float, default=1e-1)\n",
    "\n",
    "\n",
    "combo = [[8, 64, 8, 32],\n",
    "         [8, 64, 8, 16],\n",
    "         [8, 64, 4, 64],\n",
    "         [8, 64, 4, 32],\n",
    "         [8, 64, 4, 16],\n",
    "         [8, 64, 2, 32],\n",
    "         [8, 64, 2, 16]]\n",
    "\n",
    "params = list(product(diffusion_models,rec_weights,combo))\n",
    "random.shuffle(params)\n",
    "params\n",
    "\n",
    "for diffusion_model, rec_weight, (generator_layers,generator_data_channels,discriminator_layers,discriminator_data_channels) in params:\n",
    "    os.system(f'python train_refiner.py --diffusion_model={diffusion_model} --rec_weight={rec_weight} --generator_layers={generator_layers} --generator_data_channels={generator_data_channels} --discriminator_layers={discriminator_layers} --discriminator_data_channels={discriminator_data_channels}')"
   ]
  },
  {
   "cell_type": "code",
   "execution_count": 25,
   "id": "f3dff95a",
   "metadata": {},
   "outputs": [
    {
     "data": {
      "text/plain": [
       "[(60, 9, 256),\n",
       " (10, 12, 256),\n",
       " (60, 12, 256),\n",
       " (10, 9, 128),\n",
       " (30, 12, 128),\n",
       " (60, 9, 128),\n",
       " (30, 6, 256),\n",
       " (60, 12, 128),\n",
       " (60, 6, 256),\n",
       " (30, 9, 256),\n",
       " (30, 12, 256),\n",
       " (60, 6, 128),\n",
       " (10, 9, 256),\n",
       " (10, 6, 128),\n",
       " (10, 6, 256),\n",
       " (30, 9, 128),\n",
       " (10, 12, 128),\n",
       " (30, 6, 128)]"
      ]
     },
     "execution_count": 25,
     "metadata": {},
     "output_type": "execute_result"
    }
   ],
   "source": [
    "for\n"
   ]
  }
 ],
 "metadata": {
  "kernelspec": {
   "display_name": "Python 3 (ipykernel)",
   "language": "python",
   "name": "python3"
  },
  "language_info": {
   "codemirror_mode": {
    "name": "ipython",
    "version": 3
   },
   "file_extension": ".py",
   "mimetype": "text/x-python",
   "name": "python",
   "nbconvert_exporter": "python",
   "pygments_lexer": "ipython3",
   "version": "3.10.12"
  }
 },
 "nbformat": 4,
 "nbformat_minor": 5
}
